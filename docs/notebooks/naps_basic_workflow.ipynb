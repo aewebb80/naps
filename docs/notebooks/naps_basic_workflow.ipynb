{
 "cells": [
  {
   "cell_type": "markdown",
   "metadata": {
    "id": "__EV0njV4R2-"
   },
   "source": [
    "<a href=\"https://colab.research.google.com/github/kocherlab/naps/blob/main/docs/notebooks/naps_basic_workflow.ipynb\" target=\"_parent\"><img src=\"https://colab.research.google.com/assets/colab-badge.svg\" alt=\"Open In Colab\"/></a>"
   ]
  },
  {
   "cell_type": "markdown",
   "metadata": {},
   "source": [
    "# NAPS Basic Workflow"
   ]
  },
  {
   "cell_type": "markdown",
   "metadata": {
    "id": "LlV70jDuWzea"
   },
   "source": [
    "In this notebook we'll install NAPS, pull the example data from the [GitHub repository](https://github.com/kocherlab/naps), and run `naps-track` against it.\n",
    "\n",
    "This repo is particularly useful in combination with SLEAP's example notebook on remote training and inference which can be found [here](https://colab.research.google.com/github/talmolab/sleap/blob/main/docs/notebooks/Training_and_inference_on_an_example_dataset.ipynb)."
   ]
  },
  {
   "cell_type": "markdown",
   "metadata": {
    "id": "yX9noEb8m8re"
   },
   "source": [
    "## Install NAPS"
   ]
  },
  {
   "cell_type": "code",
   "execution_count": null,
   "metadata": {
    "id": "DUfnkxMtLcK3"
   },
   "outputs": [],
   "source": [
    "!pip install -q naps-track"
   ]
  },
  {
   "cell_type": "markdown",
   "metadata": {
    "id": "iq7jrgUksLtR"
   },
   "source": [
    "## Download sample training data into Colab\n",
    "Let's download a sample dataset from the the NAPS repository.\n"
   ]
  },
  {
   "cell_type": "code",
   "execution_count": null,
   "metadata": {
    "id": "GBUTQ2Cm44En"
   },
   "outputs": [],
   "source": [
    "!wget https://github.com/kocherlab/naps/raw/main/tests/data/example.slp\n",
    "!wget https://github.com/kocherlab/naps/raw/main/tests/data/example.analysis.h5\n",
    "!wget https://github.com/kocherlab/naps/raw/main/tests/data/example.mp4\n",
    "!ls -lht"
   ]
  },
  {
   "cell_type": "markdown",
   "metadata": {
    "id": "nIsKUX661xFK"
   },
   "source": [
    "## NAPS tracking\n",
    "Now let's track the files using `naps-track`."
   ]
  },
  {
   "cell_type": "code",
   "execution_count": null,
   "metadata": {
    "id": "Bi4ksVdCKbBc"
   },
   "outputs": [],
   "source": [
    "!naps-track --slp-path example.slp --h5-path example.analysis.h5 --video-path example.mp4 --tag-node 0 --start-frame 0 --end-frame 1203 --aruco-marker-set DICT_4X4_100 --output-path example_output.analysis.h5"
   ]
  },
  {
   "cell_type": "code",
   "execution_count": null,
   "metadata": {},
   "outputs": [],
   "source": [
    "import h5py\n",
    "import numpy as np\n",
    "\n",
    "filename = \"example_output.analysis.h5\"\n",
    "\n",
    "with h5py.File(filename, \"r\") as f:\n",
    "    dset_names = list(f.keys())\n",
    "    locations = f[\"tracks\"][:].T\n",
    "    node_names = [n.decode() for n in f[\"node_names\"][:]]\n",
    "\n",
    "print(\"===filename===\")\n",
    "print(filename)\n",
    "print()\n",
    "\n",
    "print(\"===HDF5 datasets===\")\n",
    "print(dset_names)\n",
    "print()\n",
    "\n",
    "print(\"===locations data shape===\")\n",
    "print(locations.shape)\n",
    "print()\n",
    "\n",
    "print(\"===nodes===\")\n",
    "for i, name in enumerate(node_names):\n",
    "    print(f\"{i}: {name}\")\n",
    "print()"
   ]
  },
  {
   "cell_type": "markdown",
   "metadata": {
    "id": "BXDLsB7tKRZ_"
   },
   "source": [
    "## Download\n",
    "\n",
    "Now we can just download the output!"
   ]
  },
  {
   "cell_type": "code",
   "execution_count": null,
   "metadata": {
    "id": "Ej2it8dl_BO_"
   },
   "outputs": [],
   "source": [
    "# Download.\n",
    "from google.colab import files\n",
    "\n",
    "files.download(\"/content/example_output.analysis.h5\")"
   ]
  },
  {
   "cell_type": "markdown",
   "metadata": {
    "id": "7Fy26NVmCWFw"
   },
   "source": [
    "If you happen to not be using Chrome, you may get an error here. If that happens, you should be able to download the files using the \"Files\" tab on the left side panel."
   ]
  }
 ],
 "metadata": {
  "colab": {
   "collapsed_sections": [],
   "name": "naps_basic_workflow",
   "private_outputs": true,
   "provenance": [],
   "toc_visible": true
  },
  "gpuClass": "standard",
  "kernelspec": {
   "display_name": "Python 3.7.11 ('sleap_dev')",
   "language": "python",
   "name": "python3"
  },
  "language_info": {
   "codemirror_mode": {
    "name": "ipython",
    "version": 3
   },
   "file_extension": ".py",
   "mimetype": "text/x-python",
   "name": "python",
   "nbconvert_exporter": "python",
   "pygments_lexer": "ipython3",
   "version": "3.7.11"
  },
  "vscode": {
   "interpreter": {
    "hash": "177c836934b6a63d57a075b5cc3f7812a3de8a98495a556647184ecb20fdf5fb"
   }
  }
 },
 "nbformat": 4,
 "nbformat_minor": 0
}
