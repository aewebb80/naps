{
 "cells": [
  {
   "cell_type": "markdown",
   "metadata": {
    "id": "SDq-1wfhRBWs"
   },
   "source": [
    "<a href=\"https://colab.research.google.com/github/kocherlab/naps/blob/main/docs/notebooks/naps_basic_workflow.ipynb\" target=\"_parent\"><img src=\"https://colab.research.google.com/assets/colab-badge.svg\" alt=\"Open In Colab\"/></a>"
   ]
  },
  {
   "cell_type": "markdown",
   "metadata": {
    "id": "__EV0njV4R2-"
   },
   "source": [
    "# Notebook: Example NAPS usage"
   ]
  },
  {
   "cell_type": "markdown",
   "metadata": {
    "id": "LlV70jDuWzea"
   },
   "source": [
    "In this notebook we'll install NAPS, pull the example data from the [GitHub repository](https://github.com/kocherlab/naps), and run `naps-track` against it.\n",
    "\n",
    "This repo is particularly useful in combination with SLEAP's example notebook on remote training and inference which can be found [here](https://colab.research.google.com/github/talmolab/sleap/blob/main/docs/notebooks/Training_and_inference_on_an_example_dataset.ipynb)."
   ]
  },
  {
   "cell_type": "markdown",
   "metadata": {
    "id": "yX9noEb8m8re"
   },
   "source": [
    "## Install NAPS"
   ]
  },
  {
   "cell_type": "code",
   "execution_count": 79,
   "metadata": {
    "id": "DUfnkxMtLcK3"
   },
   "outputs": [],
   "source": [
    "%%capture\n",
    "%pip install -q naps-track"
   ]
  },
  {
   "cell_type": "code",
   "execution_count": 88,
   "metadata": {
    "id": "2imnIw6QWa1z"
   },
   "outputs": [
    {
     "name": "stdout",
     "output_type": "stream",
     "text": [
      "INFO:numexpr.utils:Note: detected 256 virtual cores but NumExpr set to maximum of 64, check \"NUMEXPR_MAX_THREADS\" environment variable.\n",
      "INFO:numexpr.utils:Note: NumExpr detected 256 cores but \"NUMEXPR_MAX_THREADS\" not set, so enforcing safe limit of 8.\n",
      "INFO:numexpr.utils:NumExpr defaulting to 8 threads.\n",
      "Started inference at: 2023-01-06 19:07:23.524253\n",
      "Args:\n",
      "\u001b[1m{\u001b[0m\n",
      "\u001b[2;32m│   \u001b[0m\u001b[32m'data_path'\u001b[0m: \u001b[32m'example.mp4'\u001b[0m,\n",
      "\u001b[2;32m│   \u001b[0m\u001b[32m'models'\u001b[0m: \u001b[1m[\u001b[0m\n",
      "\u001b[2;32m│   │   \u001b[0m\u001b[32m'naps_data/sleap-models/centroid'\u001b[0m,\n",
      "\u001b[2;32m│   │   \u001b[0m\u001b[32m'naps_data/sleap-models/centered_instance'\u001b[0m\n",
      "\u001b[2;32m│   \u001b[0m\u001b[1m]\u001b[0m,\n",
      "\u001b[2;32m│   \u001b[0m\u001b[32m'frames'\u001b[0m: \u001b[32m''\u001b[0m,\n",
      "\u001b[2;32m│   \u001b[0m\u001b[32m'only_labeled_frames'\u001b[0m: \u001b[3;91mFalse\u001b[0m,\n",
      "\u001b[2;32m│   \u001b[0m\u001b[32m'only_suggested_frames'\u001b[0m: \u001b[3;91mFalse\u001b[0m,\n",
      "\u001b[2;32m│   \u001b[0m\u001b[32m'output'\u001b[0m: \u001b[32m'example-testing.slp'\u001b[0m,\n",
      "\u001b[2;32m│   \u001b[0m\u001b[32m'no_empty_frames'\u001b[0m: \u001b[3;91mFalse\u001b[0m,\n",
      "\u001b[2;32m│   \u001b[0m\u001b[32m'verbosity'\u001b[0m: \u001b[32m'json'\u001b[0m,\n",
      "\u001b[2;32m│   \u001b[0m\u001b[32m'video.dataset'\u001b[0m: \u001b[3;35mNone\u001b[0m,\n",
      "\u001b[2;32m│   \u001b[0m\u001b[32m'video.input_format'\u001b[0m: \u001b[32m'channels_last'\u001b[0m,\n",
      "\u001b[2;32m│   \u001b[0m\u001b[32m'video.index'\u001b[0m: \u001b[32m''\u001b[0m,\n",
      "\u001b[2;32m│   \u001b[0m\u001b[32m'cpu'\u001b[0m: \u001b[3;91mFalse\u001b[0m,\n",
      "\u001b[2;32m│   \u001b[0m\u001b[32m'first_gpu'\u001b[0m: \u001b[3;91mFalse\u001b[0m,\n",
      "\u001b[2;32m│   \u001b[0m\u001b[32m'last_gpu'\u001b[0m: \u001b[3;91mFalse\u001b[0m,\n",
      "\u001b[2;32m│   \u001b[0m\u001b[32m'gpu'\u001b[0m: \u001b[32m'auto'\u001b[0m,\n",
      "\u001b[2;32m│   \u001b[0m\u001b[32m'max_edge_length_ratio'\u001b[0m: \u001b[1;36m0.25\u001b[0m,\n",
      "\u001b[2;32m│   \u001b[0m\u001b[32m'dist_penalty_weight'\u001b[0m: \u001b[1;36m1.0\u001b[0m,\n",
      "\u001b[2;32m│   \u001b[0m\u001b[32m'batch_size'\u001b[0m: \u001b[1;36m1\u001b[0m,\n",
      "\u001b[2;32m│   \u001b[0m\u001b[32m'open_in_gui'\u001b[0m: \u001b[3;91mFalse\u001b[0m,\n",
      "\u001b[2;32m│   \u001b[0m\u001b[32m'peak_threshold'\u001b[0m: \u001b[1;36m0.2\u001b[0m,\n",
      "\u001b[2;32m│   \u001b[0m\u001b[32m'tracking.tracker'\u001b[0m: \u001b[32m'simple'\u001b[0m,\n",
      "\u001b[2;32m│   \u001b[0m\u001b[32m'tracking.target_instance_count'\u001b[0m: \u001b[1;36m50\u001b[0m,\n",
      "\u001b[2;32m│   \u001b[0m\u001b[32m'tracking.pre_cull_to_target'\u001b[0m: \u001b[1;36m50\u001b[0m,\n",
      "\u001b[2;32m│   \u001b[0m\u001b[32m'tracking.pre_cull_iou_threshold'\u001b[0m: \u001b[3;35mNone\u001b[0m,\n",
      "\u001b[2;32m│   \u001b[0m\u001b[32m'tracking.post_connect_single_breaks'\u001b[0m: \u001b[1;36m1\u001b[0m,\n",
      "\u001b[2;32m│   \u001b[0m\u001b[32m'tracking.clean_instance_count'\u001b[0m: \u001b[1;36m50\u001b[0m,\n",
      "\u001b[2;32m│   \u001b[0m\u001b[32m'tracking.clean_iou_threshold'\u001b[0m: \u001b[3;35mNone\u001b[0m,\n",
      "\u001b[2;32m│   \u001b[0m\u001b[32m'tracking.similarity'\u001b[0m: \u001b[32m'iou'\u001b[0m,\n",
      "\u001b[2;32m│   \u001b[0m\u001b[32m'tracking.match'\u001b[0m: \u001b[3;35mNone\u001b[0m,\n",
      "\u001b[2;32m│   \u001b[0m\u001b[32m'tracking.track_window'\u001b[0m: \u001b[3;35mNone\u001b[0m,\n",
      "\u001b[2;32m│   \u001b[0m\u001b[32m'tracking.min_new_track_points'\u001b[0m: \u001b[3;35mNone\u001b[0m,\n",
      "\u001b[2;32m│   \u001b[0m\u001b[32m'tracking.min_match_points'\u001b[0m: \u001b[3;35mNone\u001b[0m,\n",
      "\u001b[2;32m│   \u001b[0m\u001b[32m'tracking.img_scale'\u001b[0m: \u001b[3;35mNone\u001b[0m,\n",
      "\u001b[2;32m│   \u001b[0m\u001b[32m'tracking.of_window_size'\u001b[0m: \u001b[3;35mNone\u001b[0m,\n",
      "\u001b[2;32m│   \u001b[0m\u001b[32m'tracking.of_max_levels'\u001b[0m: \u001b[3;35mNone\u001b[0m,\n",
      "\u001b[2;32m│   \u001b[0m\u001b[32m'tracking.save_shifted_instances'\u001b[0m: \u001b[3;35mNone\u001b[0m,\n",
      "\u001b[2;32m│   \u001b[0m\u001b[32m'tracking.kf_node_indices'\u001b[0m: \u001b[3;35mNone\u001b[0m,\n",
      "\u001b[2;32m│   \u001b[0m\u001b[32m'tracking.kf_init_frame_count'\u001b[0m: \u001b[3;35mNone\u001b[0m\n",
      "\u001b[1m}\u001b[0m\n",
      "\n",
      "2023-01-06 19:07:24.444701: W tensorflow/stream_executor/platform/default/dso_loader.cc:64] Could not load dynamic library 'libcudnn.so.8'; dlerror: libcudnn.so.8: cannot open shared object file: No such file or directory; LD_LIBRARY_PATH: /Genomics/argo/users/swwolf/.conda/envs/sleap_dev/lib/python3.7/site-packages/cv2/../../lib64:/Genomics/argo/users/swwolf/.conda/envs/sleap_dev/lib/python3.7/site-packages/cv2/../../lib64:\n",
      "2023-01-06 19:07:24.444750: W tensorflow/core/common_runtime/gpu/gpu_device.cc:1850] Cannot dlopen some GPU libraries. Please make sure the missing libraries mentioned above are installed properly if you would like to use GPU. Follow the guide at https://www.tensorflow.org/install/gpu for how to download and setup the required libraries for your platform.\n",
      "Skipping registering GPU devices...\n",
      "Versions:\n",
      "SLEAP: 1.2.8\n",
      "TensorFlow: 2.7.0\n",
      "Numpy: 1.20.0\n",
      "Python: 3.7.11\n",
      "OS: Linux-4.18.0-305.12.1.el8_4.x86_64-x86_64-with-redhat-8.4-Modena\n",
      "\n",
      "System:\n",
      "GPUs: None detected.\n",
      "\n",
      "Video: example.mp4\n",
      "2023-01-06 19:07:24.628723: I tensorflow/core/platform/cpu_feature_guard.cc:151] This TensorFlow binary is optimized with oneAPI Deep Neural Network Library (oneDNN) to use the following CPU instructions in performance-critical operations:  AVX2 FMA\n",
      "To enable them in other operations, rebuild TensorFlow with the appropriate compiler flags.\n",
      "{\"n_processed\": 1, \"n_total\": 1205, \"elapsed\": 26.308711767196655, \"rate\": 0.038010226402278816, \"eta\": 31675.68609714508}\n",
      "{\"n_processed\": 2, \"n_total\": 1205, \"elapsed\": 28.84278917312622, \"rate\": 0.06934142890671512, \"eta\": 17348.935823321342}\n",
      "{\"n_processed\": 3, \"n_total\": 1205, \"elapsed\": 31.580673694610596, \"rate\": 0.09499481839389765, \"eta\": 12653.321731885273}\n",
      "{\"n_processed\": 4, \"n_total\": 1205, \"elapsed\": 34.34016990661621, \"rate\": 0.11648167711682311, \"eta\": 10310.634511172771}\n",
      "{\"n_processed\": 5, \"n_total\": 1205, \"elapsed\": 37.09479641914368, \"rate\": 0.13478982345676838, \"eta\": 8902.749252319336}\n",
      "{\"n_processed\": 6, \"n_total\": 1205, \"elapsed\": 39.83594059944153, \"rate\": 0.15061778802172632, \"eta\": 7960.547128915787}\n",
      "{\"n_processed\": 7, \"n_total\": 1205, \"elapsed\": 42.57857537269592, \"rate\": 0.16440196849668853, \"eta\": 7287.017369406563}\n",
      "{\"n_processed\": 8, \"n_total\": 1205, \"elapsed\": 45.287752866744995, \"rate\": 0.17664824034553117, \"eta\": 6776.178453058004}\n",
      "{\"n_processed\": 9, \"n_total\": 1205, \"elapsed\": 48.051424980163574, \"rate\": 0.18729938447838565, \"eta\": 6385.498827616374}\n",
      "{\"n_processed\": 10, \"n_total\": 1205, \"elapsed\": 50.84271025657654, \"rate\": 0.1966850818055209, \"eta\": 6075.702280163765}\n",
      "{\"n_processed\": 11, \"n_total\": 1205, \"elapsed\": 53.606343030929565, \"rate\": 0.20519966022246008, \"eta\": 5818.72308514335}\n",
      "{\"n_processed\": 12, \"n_total\": 1205, \"elapsed\": 56.350947856903076, \"rate\": 0.21295122905920336, \"eta\": 5602.221716543038}\n",
      "{\"n_processed\": 13, \"n_total\": 1205, \"elapsed\": 59.067445516586304, \"rate\": 0.22008746334997212, \"eta\": 5416.028618152325}\n",
      "{\"n_processed\": 14, \"n_total\": 1205, \"elapsed\": 61.83822154998779, \"rate\": 0.22639726902236446, \"eta\": 5260.664164117405}\n",
      "{\"n_processed\": 15, \"n_total\": 1205, \"elapsed\": 64.53466987609863, \"rate\": 0.2324332816315443, \"eta\": 5119.748736699422}\n",
      "{\"n_processed\": 16, \"n_total\": 1205, \"elapsed\": 67.29199051856995, \"rate\": 0.23776983018893502, \"eta\": 5000.634433120489}\n",
      "{\"n_processed\": 17, \"n_total\": 1205, \"elapsed\": 69.98920774459839, \"rate\": 0.24289467637393272, \"eta\": 4891.008801572463}\n",
      "{\"n_processed\": 18, \"n_total\": 1205, \"elapsed\": 72.7603211402893, \"rate\": 0.24738766588783145, \"eta\": 4798.137351512909}\n",
      "{\"n_processed\": 19, \"n_total\": 1205, \"elapsed\": 75.52080631256104, \"rate\": 0.2515863818976024, \"eta\": 4714.086633205414}\n",
      "{\"n_processed\": 20, \"n_total\": 1205, \"elapsed\": 78.2744140625, \"rate\": 0.2555114450870559, \"eta\": 4637.75702726841}\n",
      "{\"n_processed\": 21, \"n_total\": 1205, \"elapsed\": 81.06228351593018, \"rate\": 0.2590601594273624, \"eta\": 4570.366985866001}\n",
      "{\"n_processed\": 22, \"n_total\": 1205, \"elapsed\": 83.74028968811035, \"rate\": 0.2627171293593852, \"eta\": 4502.942015561191}\n",
      "{\"n_processed\": 23, \"n_total\": 1205, \"elapsed\": 86.47549676895142, \"rate\": 0.26597140659776775, \"eta\": 4444.086735186369}\n",
      "{\"n_processed\": 24, \"n_total\": 1205, \"elapsed\": 89.18677020072937, \"rate\": 0.2690983154753756, \"eta\": 4388.730557133755}\n",
      "{\"n_processed\": 25, \"n_total\": 1205, \"elapsed\": 91.87717366218567, \"rate\": 0.2721025181611828, \"eta\": 4336.600807571412}\n",
      "{\"n_processed\": 26, \"n_total\": 1205, \"elapsed\": 94.63513541221619, \"rate\": 0.27473951772535515, \"eta\": 4291.337517664982}\n",
      "{\"n_processed\": 27, \"n_total\": 1205, \"elapsed\": 97.33775734901428, \"rate\": 0.27738476395251727, \"eta\": 4246.808596169507}\n",
      "{\"n_processed\": 28, \"n_total\": 1205, \"elapsed\": 100.04228377342224, \"rate\": 0.2798817902105951, \"eta\": 4205.346832726683}\n",
      "{\"n_processed\": 29, \"n_total\": 1205, \"elapsed\": 102.79264879226685, \"rate\": 0.2821214739366448, \"eta\": 4168.417184237776}\n",
      "{\"n_processed\": 30, \"n_total\": 1205, \"elapsed\": 105.62936162948608, \"rate\": 0.28401207091568503, \"eta\": 4137.148101528485}\n",
      "{\"n_processed\": 31, \"n_total\": 1205, \"elapsed\": 108.37147378921509, \"rate\": 0.3655740631386587, \"eta\": 3211.3875637690226}\n",
      "{\"n_processed\": 32, \"n_total\": 1205, \"elapsed\": 111.04613876342773, \"rate\": 0.3649488651234867, \"eta\": 3214.1489181041716}\n",
      "{\"n_processed\": 33, \"n_total\": 1205, \"elapsed\": 113.8022313117981, \"rate\": 0.3648680341701898, \"eta\": 3212.120246887207}\n",
      "{\"n_processed\": 34, \"n_total\": 1205, \"elapsed\": 116.41942405700684, \"rate\": 0.3655006181049945, \"eta\": 3203.8249512990315}\n",
      "{\"n_processed\": 35, \"n_total\": 1205, \"elapsed\": 119.13429260253906, \"rate\": 0.3656777449353939, \"eta\": 3199.538435697556}\n",
      "{\"n_processed\": 36, \"n_total\": 1205, \"elapsed\": 121.87620282173157, \"rate\": 0.36567432940844113, \"eta\": 3196.8336467345557}\n",
      "{\"n_processed\": 37, \"n_total\": 1205, \"elapsed\": 124.5977783203125, \"rate\": 0.3657682158598126, \"eta\": 3193.2791023254395}\n",
      "{\"n_processed\": 38, \"n_total\": 1205, \"elapsed\": 127.34987235069275, \"rate\": 0.36557694360429954, \"eta\": 3192.214444637298}\n",
      "{\"n_processed\": 39, \"n_total\": 1205, \"elapsed\": 130.1284589767456, \"rate\": 0.36551050583100814, \"eta\": 3190.0587846279145}\n",
      "{\"n_processed\": 40, \"n_total\": 1205, \"elapsed\": 132.8626983165741, \"rate\": 0.3657647220908752, \"eta\": 3185.107610543569}\n",
      "{\"n_processed\": 41, \"n_total\": 1205, \"elapsed\": 135.55745124816895, \"rate\": 0.3660721408514873, \"eta\": 3179.7011301994326}\n",
      "{\"n_processed\": 42, \"n_total\": 1205, \"elapsed\": 138.2734444141388, \"rate\": 0.36620000756153154, \"eta\": 3175.8601201136908}\n",
      "{\"n_processed\": 43, \"n_total\": 1205, \"elapsed\": 140.92807006835938, \"rate\": 0.3664767916441845, \"eta\": 3170.7328444639843}\n",
      "{\"n_processed\": 44, \"n_total\": 1205, \"elapsed\": 143.64150190353394, \"rate\": 0.3667336828607918, \"eta\": 3165.7850212812423}\n",
      "{\"n_processed\": 45, \"n_total\": 1205, \"elapsed\": 146.34102320671082, \"rate\": 0.36671990257883447, \"eta\": 3163.177105585734}\n",
      "{\"n_processed\": 46, \"n_total\": 1205, \"elapsed\": 149.12705492973328, \"rate\": 0.36659125607750964, \"eta\": 3161.559313774109}\n",
      "{\"n_processed\": 47, \"n_total\": 1205, \"elapsed\": 151.84572744369507, \"rate\": 0.36649515759752965, \"eta\": 3159.659755373001}\n",
      "{\"n_processed\": 48, \"n_total\": 1205, \"elapsed\": 154.46901321411133, \"rate\": 0.36715822648678476, \"eta\": 3151.229950833321}\n",
      "{\"n_processed\": 49, \"n_total\": 1205, \"elapsed\": 157.18246364593506, \"rate\": 0.3673696980084347, \"eta\": 3146.693933296204}\n",
      "{\"n_processed\": 50, \"n_total\": 1205, \"elapsed\": 159.89746022224426, \"rate\": 0.36754345169938335, \"eta\": 3142.4855881929398}\n",
      "{\"n_processed\": 51, \"n_total\": 1205, \"elapsed\": 162.65276455879211, \"rate\": 0.3676901608013856, \"eta\": 3138.5120490709937}\n",
      "{\"n_processed\": 52, \"n_total\": 1205, \"elapsed\": 165.41204810142517, \"rate\": 0.3673242438411309, \"eta\": 3138.9161465168}\n",
      "{\"n_processed\": 53, \"n_total\": 1205, \"elapsed\": 168.1690752506256, \"rate\": 0.3672261381269944, \"eta\": 3137.0316009521484}\n",
      "{\"n_processed\": 54, \"n_total\": 1205, \"elapsed\": 170.90381407737732, \"rate\": 0.3671206875264215, \"eta\": 3135.2087722301485}\n",
      "{\"n_processed\": 55, \"n_total\": 1205, \"elapsed\": 173.56443643569946, \"rate\": 0.36725452405910614, \"eta\": 3131.3433182239532}\n",
      "{\"n_processed\": 56, \"n_total\": 1205, \"elapsed\": 176.2765028476715, \"rate\": 0.36746096739549444, \"eta\": 3126.8627199888233}\n",
      "{\"n_processed\": 57, \"n_total\": 1205, \"elapsed\": 178.95498204231262, \"rate\": 0.3675696855346173, \"eta\": 3123.2172977765404}\n",
      "{\"n_processed\": 58, \"n_total\": 1205, \"elapsed\": 181.80334758758545, \"rate\": 0.3669229963797543, \"eta\": 3125.9964933156966}\n",
      "{\"n_processed\": 59, \"n_total\": 1205, \"elapsed\": 184.47511649131775, \"rate\": 0.3672760575932232, \"eta\": 3120.2687360286714}\n",
      "{\"n_processed\": 60, \"n_total\": 1205, \"elapsed\": 187.1973237991333, \"rate\": 0.3677916504859715, \"eta\": 3113.1756212711334}\n",
      "{\"n_processed\": 61, \"n_total\": 1205, \"elapsed\": 189.9280149936676, \"rate\": 0.36784316047207105, \"eta\": 3110.0211256663006}\n",
      "{\"n_processed\": 62, \"n_total\": 1205, \"elapsed\": 192.64378118515015, \"rate\": 0.36765784873242413, \"eta\": 3108.8687592029573}\n",
      "{\"n_processed\": 63, \"n_total\": 1205, \"elapsed\": 195.3751151561737, \"rate\": 0.36776945235469144, \"eta\": 3105.206244532267}\n",
      "{\"n_processed\": 64, \"n_total\": 1205, \"elapsed\": 198.16099381446838, \"rate\": 0.3670105038277439, \"eta\": 3108.902846376101}\n",
      "{\"n_processed\": 65, \"n_total\": 1205, \"elapsed\": 200.88933110237122, \"rate\": 0.36695004275451376, \"eta\": 3106.689922809601}\n",
      "{\"n_processed\": 66, \"n_total\": 1205, \"elapsed\": 203.61598682403564, \"rate\": 0.36701852398876306, \"eta\": 3103.385593787829}\n",
      "{\"n_processed\": 67, \"n_total\": 1205, \"elapsed\": 206.38690423965454, \"rate\": 0.36679711351302696, \"eta\": 3102.532593838374}\n",
      "{\"n_processed\": 68, \"n_total\": 1205, \"elapsed\": 209.1749005317688, \"rate\": 0.3666361700629366, \"eta\": 3101.167022895813}\n",
      "{\"n_processed\": 69, \"n_total\": 1205, \"elapsed\": 211.9253432750702, \"rate\": 0.366762320899857, \"eta\": 3097.3737902323405}\n",
      "{\"n_processed\": 70, \"n_total\": 1205, \"elapsed\": 214.71315360069275, \"rate\": 0.366522275454593, \"eta\": 3096.673997759819}\n",
      "{\"n_processed\": 71, \"n_total\": 1205, \"elapsed\": 217.41421747207642, \"rate\": 0.36649401540912624, \"eta\": 3094.184222173691}\n",
      "{\"n_processed\": 72, \"n_total\": 1205, \"elapsed\": 220.15278840065002, \"rate\": 0.36639294178589255, \"eta\": 3092.308477552732}\n",
      "{\"n_processed\": 73, \"n_total\": 1205, \"elapsed\": 222.90945887565613, \"rate\": 0.3659368807250016, \"eta\": 3093.429658571879}\n",
      "{\"n_processed\": 74, \"n_total\": 1205, \"elapsed\": 225.66020894050598, \"rate\": 0.36577038913259186, \"eta\": 3092.103772211075}\n",
      "{\"n_processed\": 75, \"n_total\": 1205, \"elapsed\": 228.4137487411499, \"rate\": 0.36552964683750183, \"eta\": 3091.40451335907}\n",
      "{\"n_processed\": 76, \"n_total\": 1205, \"elapsed\": 231.11074018478394, \"rate\": 0.36592662938593784, \"eta\": 3085.317955390612}\n",
      "{\"n_processed\": 77, \"n_total\": 1205, \"elapsed\": 233.7918210029602, \"rate\": 0.36609449883030637, \"eta\": 3081.171674537659}\n",
      "{\"n_processed\": 78, \"n_total\": 1205, \"elapsed\": 236.4889109134674, \"rate\": 0.3657650761429353, \"eta\": 3081.212705938021}\n",
      "{\"n_processed\": 79, \"n_total\": 1205, \"elapsed\": 239.20822739601135, \"rate\": 0.36573891747522475, \"eta\": 3078.6988920211793}\n",
      "{\"n_processed\": 80, \"n_total\": 1205, \"elapsed\": 241.8973217010498, \"rate\": 0.3658544510212352, \"eta\": 3074.9933391809464}\n",
      "{\"n_processed\": 81, \"n_total\": 1205, \"elapsed\": 244.63105034828186, \"rate\": 0.3659507405802136, \"eta\": 3071.451633675893}\n",
      "{\"n_processed\": 82, \"n_total\": 1205, \"elapsed\": 247.32583808898926, \"rate\": 0.36623887534359584, \"eta\": 3066.3047415335973}\n",
      "{\"n_processed\": 83, \"n_total\": 1205, \"elapsed\": 250.0229525566101, \"rate\": 0.36650692682255737, \"eta\": 3061.333682632446}\n",
      "{\"n_processed\": 84, \"n_total\": 1205, \"elapsed\": 252.71955490112305, \"rate\": 0.3666777676128383, \"eta\": 3057.180170202255}\n",
      "{\"n_processed\": 85, \"n_total\": 1205, \"elapsed\": 255.4182448387146, \"rate\": 0.36650723747628683, \"eta\": 3055.874169667562}\n",
      "{\"n_processed\": 86, \"n_total\": 1205, \"elapsed\": 258.12446641921997, \"rate\": 0.3665334122112461, \"eta\": 3052.9276805877685}\n",
      "{\"n_processed\": 87, \"n_total\": 1205, \"elapsed\": 260.84593534469604, \"rate\": 0.36634099666625614, \"eta\": 3051.801491435369}\n",
      "{\"n_processed\": 88, \"n_total\": 1205, \"elapsed\": 263.5135507583618, \"rate\": 0.3671513786400175, \"eta\": 3042.3418376843133}\n",
      "{\"n_processed\": 89, \"n_total\": 1205, \"elapsed\": 266.3057234287262, \"rate\": 0.3666111620147926, \"eta\": 3044.0971678733827}\n",
      "{\"n_processed\": 90, \"n_total\": 1205, \"elapsed\": 269.04648542404175, \"rate\": 0.3665280471375784, \"eta\": 3042.0591512918472}\n",
      "{\"n_processed\": 91, \"n_total\": 1205, \"elapsed\": 271.78810930252075, \"rate\": 0.3664790918240334, \"eta\": 3039.736849530538}\n",
      "{\"n_processed\": 92, \"n_total\": 1205, \"elapsed\": 274.4817781448364, \"rate\": 0.36657804930671517, \"eta\": 3036.18834271431}\n",
      "{\"n_processed\": 93, \"n_total\": 1205, \"elapsed\": 277.19957447052, \"rate\": 0.36663869765620516, \"eta\": 3032.9586241404218}\n",
      "{\"n_processed\": 94, \"n_total\": 1205, \"elapsed\": 279.9183897972107, \"rate\": 0.3669394531466264, \"eta\": 3027.7474675258}\n",
      "{\"n_processed\": 95, \"n_total\": 1205, \"elapsed\": 282.63176107406616, \"rate\": 0.36700662019180597, \"eta\": 3024.468603372574}\n",
      "{\"n_processed\": 96, \"n_total\": 1205, \"elapsed\": 285.3346846103668, \"rate\": 0.3671132091459892, \"eta\": 3020.8665130297345}\n",
      "{\"n_processed\": 97, \"n_total\": 1205, \"elapsed\": 288.0900673866272, \"rate\": 0.3671830038561897, \"eta\": 3017.5688644727074}\n",
      "{\"n_processed\": 98, \"n_total\": 1205, \"elapsed\": 290.84122824668884, \"rate\": 0.36734860928209573, \"eta\": 3013.4862962007523}\n",
      "{\"n_processed\": 99, \"n_total\": 1205, \"elapsed\": 293.51051592826843, \"rate\": 0.36771402462594216, \"eta\": 3007.7721433798474}\n",
      "{\"n_processed\": 100, \"n_total\": 1205, \"elapsed\": 296.2312457561493, \"rate\": 0.36801661220413623, \"eta\": 3002.5818491776786}\n",
      "{\"n_processed\": 101, \"n_total\": 1205, \"elapsed\": 298.91071343421936, \"rate\": 0.3681141435536366, \"eta\": 2999.069770431519}\n",
      "{\"n_processed\": 102, \"n_total\": 1205, \"elapsed\": 301.63526248931885, \"rate\": 0.36817748925376814, \"eta\": 2995.837692944209}\n",
      "{\"n_processed\": 103, \"n_total\": 1205, \"elapsed\": 304.2703893184662, \"rate\": 0.36872749572194874, \"eta\": 2988.656969674428}\n",
      "{\"n_processed\": 104, \"n_total\": 1205, \"elapsed\": 306.9641613960266, \"rate\": 0.36898590086009975, \"eta\": 2983.8538476228714}\n",
      "{\"n_processed\": 105, \"n_total\": 1205, \"elapsed\": 309.666787147522, \"rate\": 0.3692171115848581, \"eta\": 2979.2768685022993}\n",
      "{\"n_processed\": 106, \"n_total\": 1205, \"elapsed\": 312.37683868408203, \"rate\": 0.36915777442160563, \"eta\": 2977.0468784570694}\n",
      "{\"n_processed\": 107, \"n_total\": 1205, \"elapsed\": 315.0895574092865, \"rate\": 0.3690141125614526, \"eta\": 2975.495956993103}\n",
      "{\"n_processed\": 108, \"n_total\": 1205, \"elapsed\": 317.7815840244293, \"rate\": 0.36903709544711033, \"eta\": 2972.6008944193522}\n",
      "{\"n_processed\": 109, \"n_total\": 1205, \"elapsed\": 320.4700458049774, \"rate\": 0.36917721702415357, \"eta\": 2968.7639146169026}\n",
      "{\"n_processed\": 110, \"n_total\": 1205, \"elapsed\": 323.1650815010071, \"rate\": 0.3691502171513542, \"eta\": 2966.272127509117}\n",
      "{\"n_processed\": 111, \"n_total\": 1205, \"elapsed\": 325.8971824645996, \"rate\": 0.3691576141323524, \"eta\": 2963.5038209120435}\n",
      "{\"n_processed\": 112, \"n_total\": 1205, \"elapsed\": 328.5764961242676, \"rate\": 0.36922792407540944, \"eta\": 2960.2311437765757}\n",
      "{\"n_processed\": 113, \"n_total\": 1205, \"elapsed\": 331.33961176872253, \"rate\": 0.3689282377956297, \"eta\": 2959.925232410431}\n",
      "{\"n_processed\": 114, \"n_total\": 1205, \"elapsed\": 334.0261034965515, \"rate\": 0.36897411470869956, \"eta\": 2956.8469887415567}\n",
      "{\"n_processed\": 115, \"n_total\": 1205, \"elapsed\": 336.7023055553436, \"rate\": 0.3690761965233765, \"eta\": 2953.319694598516}\n",
      "{\"n_processed\": 116, \"n_total\": 1205, \"elapsed\": 339.45478200912476, \"rate\": 0.3688662998351699, \"eta\": 2952.2892183065414}\n",
      "{\"n_processed\": 117, \"n_total\": 1205, \"elapsed\": 342.1293296813965, \"rate\": 0.36907922013082844, \"eta\": 2947.87660929362}\n",
      "{\"n_processed\": 118, \"n_total\": 1205, \"elapsed\": 344.8676791191101, \"rate\": 0.3687583210048659, \"eta\": 2947.7300933519996}\n",
      "{\"n_processed\": 119, \"n_total\": 1205, \"elapsed\": 347.59112429618835, \"rate\": 0.36907010940378676, \"eta\": 2942.5303548812867}\n",
      "{\"n_processed\": 120, \"n_total\": 1205, \"elapsed\": 350.2804305553436, \"rate\": 0.36930389046304846, \"eta\": 2937.959842880567}\n",
      "{\"n_processed\": 121, \"n_total\": 1205, \"elapsed\": 352.9734785556793, \"rate\": 0.36952485288157705, \"eta\": 2933.496871852875}\n",
      "{\"n_processed\": 122, \"n_total\": 1205, \"elapsed\": 355.6602306365967, \"rate\": 0.3695563391228108, \"eta\": 2930.5409902334213}\n",
      "{\"n_processed\": 123, \"n_total\": 1205, \"elapsed\": 358.3818619251251, \"rate\": 0.3695388827622838, \"eta\": 2927.973348601659}\n",
      "{\"n_processed\": 124, \"n_total\": 1205, \"elapsed\": 361.1006875038147, \"rate\": 0.3695388198164424, \"eta\": 2925.2677716970443}\n",
      "{\"n_processed\": 125, \"n_total\": 1205, \"elapsed\": 363.78413820266724, \"rate\": 0.36967507613375267, \"eta\": 2921.484486579895}\n",
      "{\"n_processed\": 126, \"n_total\": 1205, \"elapsed\": 366.4536485671997, \"rate\": 0.3698273433263322, \"eta\": 2917.5776736656826}\n",
      "{\"n_processed\": 127, \"n_total\": 1205, \"elapsed\": 369.1601438522339, \"rate\": 0.3700503605801754, \"eta\": 2913.117010100683}\n",
      "{\"n_processed\": 128, \"n_total\": 1205, \"elapsed\": 371.79213523864746, \"rate\": 0.37059512161227437, \"eta\": 2906.1364739894866}\n",
      "{\"n_processed\": 129, \"n_total\": 1205, \"elapsed\": 374.4341561794281, \"rate\": 0.370719987119136, \"eta\": 2902.4601785341897}\n",
      "{\"n_processed\": 130, \"n_total\": 1205, \"elapsed\": 377.2379171848297, \"rate\": 0.370340006378322, \"eta\": 2902.737974524498}\n",
      "{\"n_processed\": 131, \"n_total\": 1205, \"elapsed\": 379.93299436569214, \"rate\": 0.3702686479819869, \"eta\": 2900.59665017128}\n",
      "{\"n_processed\": 132, \"n_total\": 1205, \"elapsed\": 382.56050729751587, \"rate\": 0.370712633335584, \"eta\": 2894.4252326806386}\n",
      "{\"n_processed\": 133, \"n_total\": 1205, \"elapsed\": 385.2324643135071, \"rate\": 0.37054399254023146, \"eta\": 2893.0437993367514}\n",
      "{\"n_processed\": 134, \"n_total\": 1205, \"elapsed\": 387.9748637676239, \"rate\": 0.3703215745772623, \"eta\": 2892.0810277462006}\n",
      "{\"n_processed\": 135, \"n_total\": 1205, \"elapsed\": 390.68987131118774, \"rate\": 0.37026498272517716, \"eta\": 2889.8222892284393}\n",
      "{\"n_processed\": 136, \"n_total\": 1205, \"elapsed\": 393.37987327575684, \"rate\": 0.37035674056792756, \"eta\": 2886.406221095721}\n",
      "{\"n_processed\": 137, \"n_total\": 1205, \"elapsed\": 396.1235918998718, \"rate\": 0.3702150546423059, \"eta\": 2884.809752082825}\n",
      "{\"n_processed\": 138, \"n_total\": 1205, \"elapsed\": 398.83360147476196, \"rate\": 0.37013291303181767, \"eta\": 2882.7482302506764}\n",
      "{\"n_processed\": 139, \"n_total\": 1205, \"elapsed\": 401.560697555542, \"rate\": 0.36995657465046583, \"eta\": 2881.419261185328}\n",
      "{\"n_processed\": 140, \"n_total\": 1205, \"elapsed\": 404.30932545661926, \"rate\": 0.3697122344398725, \"eta\": 2880.6187645196915}\n",
      "{\"n_processed\": 141, \"n_total\": 1205, \"elapsed\": 406.9693558216095, \"rate\": 0.3700408982306716, \"eta\": 2875.3578458150228}\n",
      "{\"n_processed\": 142, \"n_total\": 1205, \"elapsed\": 409.66255927085876, \"rate\": 0.3699775058983568, \"eta\": 2873.1476456085843}\n",
      "{\"n_processed\": 143, \"n_total\": 1205, \"elapsed\": 412.3777573108673, \"rate\": 0.370196269325786, \"eta\": 2868.748520708084}\n",
      "{\"n_processed\": 144, \"n_total\": 1205, \"elapsed\": 415.0498821735382, \"rate\": 0.3702619167783397, \"eta\": 2865.5391006231307}\n",
      "{\"n_processed\": 145, \"n_total\": 1205, \"elapsed\": 417.74300599098206, \"rate\": 0.3701845995798477, \"eta\": 2863.436245600383}\n",
      "{\"n_processed\": 146, \"n_total\": 1205, \"elapsed\": 420.3943507671356, \"rate\": 0.37064712403494504, \"eta\": 2857.1650265932085}\n",
      "{\"n_processed\": 147, \"n_total\": 1205, \"elapsed\": 423.1207580566406, \"rate\": 0.37040979812036157, \"eta\": 2856.295933230718}\n",
      "{\"n_processed\": 148, \"n_total\": 1205, \"elapsed\": 425.82690382003784, \"rate\": 0.3705571363299723, \"eta\": 2852.461594637235}\n",
      "{\"n_processed\": 149, \"n_total\": 1205, \"elapsed\": 428.57975149154663, \"rate\": 0.3704226074310645, \"eta\": 2850.797923278809}\n",
      "{\"n_processed\": 150, \"n_total\": 1205, \"elapsed\": 431.28435802459717, \"rate\": 0.37035264735357065, \"eta\": 2848.6363133589425}\n",
      "{\"n_processed\": 151, \"n_total\": 1205, \"elapsed\": 433.994921207428, \"rate\": 0.3702725857079403, \"eta\": 2846.551542520523}\n",
      "{\"n_processed\": 152, \"n_total\": 1205, \"elapsed\": 436.6162314414978, \"rate\": 0.3705719006076273, \"eta\": 2841.5538206577303}\n",
      "{\"n_processed\": 153, \"n_total\": 1205, \"elapsed\": 439.3315818309784, \"rate\": 0.37060065225523003, \"eta\": 2838.635047181447}\n",
      "{\"n_processed\": 154, \"n_total\": 1205, \"elapsed\": 442.0406222343445, \"rate\": 0.3706454601506317, \"eta\": 2835.593884174029}\n",
      "{\"n_processed\": 155, \"n_total\": 1205, \"elapsed\": 444.6737825870514, \"rate\": 0.37087589414270244, \"eta\": 2831.135742664337}\n",
      "{\"n_processed\": 156, \"n_total\": 1205, \"elapsed\": 447.355633020401, \"rate\": 0.3708193250906111, \"eta\": 2828.8709056456883}\n",
      "{\"n_processed\": 157, \"n_total\": 1205, \"elapsed\": 450.07667541503906, \"rate\": 0.3707526616296674, \"eta\": 2826.682336934408}\n",
      "{\"n_processed\": 158, \"n_total\": 1205, \"elapsed\": 452.78257632255554, \"rate\": 0.37041431895239163, \"eta\": 2826.5645965337753}\n",
      "{\"n_processed\": 159, \"n_total\": 1205, \"elapsed\": 455.51022696495056, \"rate\": 0.37002310335962657, \"eta\": 2826.850514205297}\n",
      "{\"n_processed\": 160, \"n_total\": 1205, \"elapsed\": 458.2666268348694, \"rate\": 0.37023937698178244, \"eta\": 2822.4982672532396}\n",
      "{\"n_processed\": 161, \"n_total\": 1205, \"elapsed\": 460.94993901252747, \"rate\": 0.37029314299969834, \"eta\": 2819.387881565094}\n",
      "{\"n_processed\": 162, \"n_total\": 1205, \"elapsed\": 463.8669240474701, \"rate\": 0.3689748028356465, \"eta\": 2826.751290289561}\n",
      "{\"n_processed\": 163, \"n_total\": 1205, \"elapsed\": 466.572452545166, \"rate\": 0.3688225199640325, \"eta\": 2825.2070944627126}\n",
      "{\"n_processed\": 164, \"n_total\": 1205, \"elapsed\": 469.2576186656952, \"rate\": 0.3690822167230031, \"eta\": 2820.5097748756407}\n",
      "{\"n_processed\": 165, \"n_total\": 1205, \"elapsed\": 471.9473571777344, \"rate\": 0.3691969920706565, \"eta\": 2816.92435836792}\n",
      "{\"n_processed\": 166, \"n_total\": 1205, \"elapsed\": 474.62628698349, \"rate\": 0.36924719744757933, \"eta\": 2813.8331372102098}\n",
      "{\"n_processed\": 167, \"n_total\": 1205, \"elapsed\": 477.44625091552734, \"rate\": 0.3689010061079387, \"eta\": 2813.762995529175}\n",
      "{\"n_processed\": 168, \"n_total\": 1205, \"elapsed\": 480.11408162117004, \"rate\": 0.36909244425933996, \"eta\": 2809.5942253192266}\n",
      "{\"n_processed\": 169, \"n_total\": 1205, \"elapsed\": 482.8550035953522, \"rate\": 0.3690296762379385, \"eta\": 2807.3622982343036}\n",
      "{\"n_processed\": 170, \"n_total\": 1205, \"elapsed\": 485.5149803161621, \"rate\": 0.3694325413942545, \"eta\": 2801.594023346901}\n",
      "{\"n_processed\": 171, \"n_total\": 1205, \"elapsed\": 488.18442368507385, \"rate\": 0.3693897222542982, \"eta\": 2799.211612304052}\n",
      "{\"n_processed\": 172, \"n_total\": 1205, \"elapsed\": 490.964364528656, \"rate\": 0.36899564044862604, \"eta\": 2799.4910691738132}\n",
      "{\"n_processed\": 173, \"n_total\": 1205, \"elapsed\": 493.6539831161499, \"rate\": 0.3691117738696629, \"eta\": 2795.90106048584}\n",
      "{\"n_processed\": 174, \"n_total\": 1205, \"elapsed\": 496.3883764743805, \"rate\": 0.36882919785258594, \"eta\": 2795.331839243571}\n",
      "{\"n_processed\": 175, \"n_total\": 1205, \"elapsed\": 499.06207966804504, \"rate\": 0.3689172838507665, \"eta\": 2791.953766028086}\n",
      "{\"n_processed\": 176, \"n_total\": 1205, \"elapsed\": 501.7654061317444, \"rate\": 0.36868161097639196, \"eta\": 2791.0261031866075}\n",
      "{\"n_processed\": 177, \"n_total\": 1205, \"elapsed\": 504.4731504917145, \"rate\": 0.36876619078214057, \"eta\": 2787.674211184184}\n",
      "{\"n_processed\": 178, \"n_total\": 1205, \"elapsed\": 507.2017912864685, \"rate\": 0.3686642501151318, \"eta\": 2785.7325457493466}\n",
      "{\"n_processed\": 179, \"n_total\": 1205, \"elapsed\": 509.9471652507782, \"rate\": 0.3686981135197463, \"eta\": 2782.7644416332246}\n",
      "{\"n_processed\": 180, \"n_total\": 1205, \"elapsed\": 512.6354441642761, \"rate\": 0.3687721068452131, \"eta\": 2779.4943841298423}\n",
      "{\"n_processed\": 181, \"n_total\": 1205, \"elapsed\": 515.3918876647949, \"rate\": 0.3685642452906259, \"eta\": 2778.3487223307293}\n",
      "{\"n_processed\": 182, \"n_total\": 1205, \"elapsed\": 518.1438701152802, \"rate\": 0.3679735104945607, \"eta\": 2780.0914218664166}\n",
      "{\"n_processed\": 183, \"n_total\": 1205, \"elapsed\": 520.7594301700592, \"rate\": 0.36842446557121905, \"eta\": 2773.9743027528125}\n",
      "{\"n_processed\": 184, \"n_total\": 1205, \"elapsed\": 523.4354176521301, \"rate\": 0.36857407491170635, \"eta\": 2770.1351492087047}\n",
      "{\"n_processed\": 185, \"n_total\": 1205, \"elapsed\": 526.1305961608887, \"rate\": 0.3682934563582768, \"eta\": 2769.530607700348}\n",
      "{\"n_processed\": 186, \"n_total\": 1205, \"elapsed\": 528.8179366588593, \"rate\": 0.3682686356061758, \"eta\": 2767.001860809326}\n",
      "{\"n_processed\": 187, \"n_total\": 1205, \"elapsed\": 531.5150053501129, \"rate\": 0.36837704713955227, \"eta\": 2763.472935962677}\n",
      "{\"n_processed\": 188, \"n_total\": 1205, \"elapsed\": 534.188065290451, \"rate\": 0.3685256649124609, \"eta\": 2759.6449768066404}\n",
      "{\"n_processed\": 189, \"n_total\": 1205, \"elapsed\": 536.8641057014465, \"rate\": 0.36875945573642593, \"eta\": 2755.1835870107016}\n",
      "{\"n_processed\": 190, \"n_total\": 1205, \"elapsed\": 539.5388162136078, \"rate\": 0.3691301200869968, \"eta\": 2749.707880139351}\n",
      "{\"n_processed\": 191, \"n_total\": 1205, \"elapsed\": 542.2333974838257, \"rate\": 0.36907894840468125, \"eta\": 2747.3796714305877}\n",
      "{\"n_processed\": 192, \"n_total\": 1205, \"elapsed\": 544.9301538467407, \"rate\": 0.370081642557756, \"eta\": 2737.233851965268}\n",
      "{\"n_processed\": 193, \"n_total\": 1205, \"elapsed\": 547.6744735240936, \"rate\": 0.36990462661410645, \"eta\": 2735.840341504415}\n",
      "{\"n_processed\": 194, \"n_total\": 1205, \"elapsed\": 550.4120376110077, \"rate\": 0.36966579369737007, \"eta\": 2734.9027614593506}\n",
      "{\"n_processed\": 195, \"n_total\": 1205, \"elapsed\": 553.1006982326508, \"rate\": 0.3696707047399543, \"eta\": 2732.1613183021545}\n",
      "{\"n_processed\": 196, \"n_total\": 1205, \"elapsed\": 555.7506499290466, \"rate\": 0.3698027523039316, \"eta\": 2728.4815856933596}\n",
      "{\"n_processed\": 197, \"n_total\": 1205, \"elapsed\": 558.451577425003, \"rate\": 0.37034617579021084, \"eta\": 2721.777801132202}\n",
      "{\"n_processed\": 198, \"n_total\": 1205, \"elapsed\": 561.1209404468536, \"rate\": 0.3703391692725462, \"eta\": 2719.129067492485}\n",
      "{\"n_processed\": 199, \"n_total\": 1205, \"elapsed\": 563.8798186779022, \"rate\": 0.37025708371152194, \"eta\": 2717.0310691038767}\n",
      "{\"n_processed\": 200, \"n_total\": 1205, \"elapsed\": 566.5721201896667, \"rate\": 0.37010942985536316, \"eta\": 2715.413115501404}\n",
      "{\"n_processed\": 201, \"n_total\": 1205, \"elapsed\": 569.2358374595642, \"rate\": 0.3701355772595618, \"eta\": 2712.5195784568787}\n",
      "^C\n"
     ]
    }
   ],
   "source": [
    "# If you have a model and want to do the inference on Colab, this can be done quite directly! Just upload your model and run inference as below.\n",
    "# You can also take advantage of the GPU accessibility of Colab to train as well. Look to the SLEAP tutorials for more info.\n",
    "# The models used for these videos can be found at https://doi.org/10.34770/6t6b-9545\n",
    "\n",
    "# !sleap-track example.mp4 -o example-testing.slp -m naps_data/sleap-models/centroid -m naps_data/sleap-models/centered_instance --verbosity json --batch_size 1 --tracking.tracker simple --tracking.similarity iou --tracking.post_connect_single_breaks 1 --tracking.pre_cull_to_target 50 --tracking.target_instance_count 50 --tacking.clean_instance_count 50 --gpu 0"
   ]
  },
  {
   "cell_type": "markdown",
   "metadata": {
    "id": "iq7jrgUksLtR"
   },
   "source": [
    "## Download sample training data into Colab\n",
    "Let's download a sample dataset from the the NAPS repository.\n"
   ]
  },
  {
   "cell_type": "code",
   "execution_count": 81,
   "metadata": {
    "id": "GBUTQ2Cm44En"
   },
   "outputs": [],
   "source": [
    "%%capture\n",
    "!wget https://github.com/kocherlab/naps/raw/main/docs/notebooks/example_data/example.slp\n",
    "!wget https://github.com/kocherlab/naps/raw/main/docs/notebooks/example_data/example.analysis.h5\n",
    "!wget https://github.com/kocherlab/naps/raw/main/docs/notebooks/example_data/example.mp4"
   ]
  },
  {
   "cell_type": "code",
   "execution_count": 82,
   "metadata": {
    "id": "oaiFu3s3HVcH"
   },
   "outputs": [
    {
     "name": "stdout",
     "output_type": "stream",
     "text": [
      "total 331M\n",
      "drwxr-sr-x. 2 swwolf julienlb  329 Jan  6 18:49 example_data\n",
      "-rw-rw-r--. 1 swwolf julienlb 3.2M Jan  6 18:43 output.mp4\n",
      "-rw-rw-r--. 1 swwolf julienlb 4.2M Jan  6 18:40 naps_basic_workflow.ipynb\n",
      "-rw-rw-r--. 1 swwolf julienlb 7.9M Jan  6 17:47 example-naps.h5\n",
      "-rw-rw-r--. 1 swwolf julienlb  29M Jan  6 17:47 example-naps.slp\n",
      "-rw-rw-r--. 1 swwolf julienlb  86M Jan  6 17:40 naps_output.zip\n",
      "-rw-r--r--. 1 swwolf julienlb  29M Jan  6 17:36 example.slp\n",
      "-rw-rw-r--. 1 swwolf julienlb  56M Jan  6 17:36 example.mp4\n",
      "-rw-rw-r--. 1 swwolf julienlb 8.0M Jan  6 17:36 example.analysis.h5\n",
      "-rw-r--r--. 1 swwolf julienlb  51M Jan  6 17:36 example-aruco.npy\n",
      "drwxr-sr-x. 8 swwolf julienlb  427 Jan  6 17:20 naps_data\n",
      "drwxr-sr-x. 2 swwolf julienlb   30 Jan  6 16:30 utils\n",
      "-rw-r--r--. 1 swwolf julienlb 219K Jan  6 15:54 naps_manuscript_graphics.ipynb\n",
      "-rw-r--r--. 1 swwolf julienlb 532K Dec  7 13:27 SLEAP_metrics.ipynb\n",
      "drwxr-sr-x. 2 swwolf julienlb  311 Dec  7 13:10 figures\n"
     ]
    }
   ],
   "source": [
    "!ls -lht"
   ]
  },
  {
   "cell_type": "markdown",
   "metadata": {
    "id": "nIsKUX661xFK"
   },
   "source": [
    "## NAPS tracking\n",
    "Now let's track the files using `naps-track`. We've adjusted a couple params here to make the tracks nicer."
   ]
  },
  {
   "cell_type": "code",
   "execution_count": 1,
   "metadata": {
    "id": "Bi4ksVdCKbBc"
   },
   "outputs": [
    {
     "name": "stdout",
     "output_type": "stream",
     "text": [
      "2023-01-06 19:33:12 INFO     Note: detected 256 virtual cores but NumExpr set to maximum of 64, check \"NUMEXPR_MAX_THREADS\" environment variable.\n",
      "2023-01-06 19:33:12 INFO     Note: NumExpr detected 256 cores but \"NUMEXPR_MAX_THREADS\" not set, so enforcing safe limit of 8.\n",
      "2023-01-06 19:33:12 INFO     NumExpr defaulting to 8 threads.\n",
      "2023-01-06 19:33:17 INFO     Loading predictions...\n",
      "2023-01-06 19:33:24 INFO     Create ArUco model...\n",
      "2023-01-06 19:33:24 INFO     ArUco model built in 1.5020370483398438e-05 seconds.\n",
      "2023-01-06 19:33:24 INFO     Starting matching...\n",
      "Processing frames 0 to 1200\n",
      "2023-01-06 19:34:09 INFO     Done matching in 45.064929485321045 seconds.\n",
      "2023-01-06 19:34:09 INFO     Reconstructing SLEAP file...\n",
      "2023-01-06 19:34:15 INFO     Total tags: 45\n",
      "2023-01-06 19:34:17 INFO     Done reconstructing SLEAP file in 7.422713756561279 seconds.\n",
      "2023-01-06 19:34:17 INFO     Complete NAPS runtime: 59.63303208351135\n"
     ]
    }
   ],
   "source": [
    "!naps-track --slp-path example.slp --video-path example.mp4 --tag-node-name tag --start-frame 0 --end-frame 1200 --aruco-marker-set DICT_5X5_50 --output-path example-naps.slp --aruco-error-correction-rate 0.6 --aruco-adaptive-thresh-constant 7 --aruco-adaptive-thresh-win-size-max 23 --aruco-adaptive-thresh-win-size-step 10 --aruco-adaptive-thresh-win-size-min 3 --half-rolling-window-size 20"
   ]
  },
  {
   "cell_type": "markdown",
   "metadata": {
    "id": "BXDLsB7tKRZ_"
   },
   "source": [
    "## Download\n",
    "\n",
    "Now we can just download the output! This pulls the video, the output file, and the original project. \n",
    "\n",
    "Once you have these, you can create a new SLEAP project and import example_output.analysis.h5 and point to the video to see the resulting tracks. If you are curious how these compare with the original tracks, you can open the original project."
   ]
  },
  {
   "cell_type": "code",
   "execution_count": null,
   "metadata": {
    "id": "Ej2it8dl_BO_"
   },
   "outputs": [],
   "source": [
    "# Zip the video and output\n",
    "!zip -0 -r naps_output.zip example.mp4 example.slp example-naps.slp\n",
    "\n",
    "# Download\n",
    "from google.colab import files\n",
    "files.download(\"/content/naps_output.zip\")"
   ]
  },
  {
   "cell_type": "markdown",
   "metadata": {
    "id": "7Fy26NVmCWFw"
   },
   "source": [
    "If you happen to not be using Chrome, you may get an error here. If that happens, you should be able to download the files using the \"Files\" tab on the left side panel."
   ]
  },
  {
   "attachments": {},
   "cell_type": "markdown",
   "metadata": {
    "id": "ERsPYhzbx4GR"
   },
   "source": [
    "## After NAPS\n",
    "\n",
    "### SLEAP GUI\n",
    "\n",
    "Now that we've got the files, we can either open the raw data or import it back into SLEAP. To view the tracks, open SLEAP (`sleap-label`) and create a new project. After creating a new project, you can go File > Import > SLEAP Analysis HDF5 and select the output, here example_output.analysis.h5. When you select the file, you will be prompted to select the video associated with the analysis file. You can simply select example.mp4 and then tracks will display in SLEAP."
   ]
  },
  {
   "cell_type": "code",
   "execution_count": null,
   "metadata": {},
   "outputs": [],
   "source": [
    "!sleap-convert example-naps.slp -o example-naps.h5 --format analysis"
   ]
  },
  {
   "cell_type": "code",
   "execution_count": 2,
   "metadata": {
    "id": "nmlycvykyc_2"
   },
   "outputs": [
    {
     "name": "stdout",
     "output_type": "stream",
     "text": [
      "===filename===\n",
      "example-naps.h5\n",
      "\n",
      "===HDF5 datasets===\n",
      "['edge_inds', 'edge_names', 'instance_scores', 'labels_path', 'node_names', 'point_scores', 'provenance', 'track_names', 'track_occupancy', 'tracking_scores', 'tracks', 'video_ind', 'video_path']\n",
      "\n",
      "===locations data shape===\n",
      "(1201, 17, 2, 45)\n",
      "\n",
      "===nodes===\n",
      "0: tag\n",
      "1: head\n",
      "2: thorax_a\n",
      "3: abdomen\n",
      "4: antenna_l\n",
      "5: antenna_r\n",
      "6: foreleg_l\n",
      "7: foreleg_r\n",
      "8: midleg_l\n",
      "9: midleg_r\n",
      "10: hindleg_l\n",
      "11: hindleg_r\n",
      "12: wing_l\n",
      "13: wing_r\n",
      "14: thorax_h\n",
      "15: antenna_l_joint\n",
      "16: antenna_r_joint\n",
      "\n"
     ]
    }
   ],
   "source": [
    "\"\"\"Read in the h5 and display basic info\n",
    "\"\"\"\n",
    "\n",
    "import h5py\n",
    "import numpy as np\n",
    "\n",
    "filename = \"example-naps.h5\"\n",
    "video_filename = \"example.mp4\"\n",
    "output_filename = \"output.mp4\"\n",
    "\n",
    "with h5py.File(filename, \"r\") as f:\n",
    "    dset_names = list(f.keys())\n",
    "    locations = f[\"tracks\"][:].T\n",
    "    node_names = [n.decode() for n in f[\"node_names\"][:]]\n",
    "\n",
    "print(\"===filename===\")\n",
    "print(filename)\n",
    "print()\n",
    "\n",
    "print(\"===HDF5 datasets===\")\n",
    "print(dset_names)\n",
    "print()\n",
    "\n",
    "print(\"===locations data shape===\")\n",
    "print(locations.shape)\n",
    "print()\n",
    "\n",
    "print(\"===nodes===\")\n",
    "for i, name in enumerate(node_names):\n",
    "    print(f\"{i}: {name}\")\n",
    "print()"
   ]
  },
  {
   "attachments": {},
   "cell_type": "markdown",
   "metadata": {},
   "source": [
    "## Rendering with sleap-render\n",
    "Now we can simply render this as a video using `sleap-render`. We'll use --frames to subset the frames to render and --tracks to render the tracks. We'll also use --output to specify the output file name."
   ]
  },
  {
   "cell_type": "code",
   "execution_count": 3,
   "metadata": {},
   "outputs": [
    {
     "name": "stdout",
     "output_type": "stream",
     "text": [
      "INFO:numexpr.utils:Note: detected 256 virtual cores but NumExpr set to maximum of 64, check \"NUMEXPR_MAX_THREADS\" environment variable.\n",
      "INFO:numexpr.utils:Note: NumExpr detected 256 cores but \"NUMEXPR_MAX_THREADS\" not set, so enforcing safe limit of 8.\n",
      "INFO:numexpr.utils:NumExpr defaulting to 8 threads.\n",
      "Saving config: /Genomics/argo/users/swwolf/.sleap/1.2.8/preferences.yaml\n",
      "Writing video with 201 frame images...\n",
      "INFO:sleap.io.visuals:Chunks: 4, chunk size: 64\n",
      "Finished 64 frames in 72.4 s, fps = 1, approx 155.0 s remaining\n",
      "Finished 128 frames in 128.3 s, fps = 1, approx 73.2 s remaining\n"
     ]
    }
   ],
   "source": [
    "!sleap-render example-naps.slp --frames 550-650 --crop 1024,1024 -o example-naps-tracks.mp4"
   ]
  },
  {
   "cell_type": "code",
   "execution_count": null,
   "metadata": {},
   "outputs": [],
   "source": [
    "show_video(\"example-naps-tracks.mp4\")"
   ]
  },
  {
   "cell_type": "code",
   "execution_count": null,
   "metadata": {},
   "outputs": [],
   "source": [
    " "
   ]
  }
 ],
 "metadata": {
  "colab": {
   "background_execution": "on",
   "collapsed_sections": [],
   "name": "naps_basic_workflow",
   "private_outputs": true,
   "provenance": []
  },
  "gpuClass": "standard",
  "kernelspec": {
   "display_name": "Python 3.7.11 ('sleap_dev')",
   "language": "python",
   "name": "python3"
  },
  "language_info": {
   "codemirror_mode": {
    "name": "ipython",
    "version": 3
   },
   "file_extension": ".py",
   "mimetype": "text/x-python",
   "name": "python",
   "nbconvert_exporter": "python",
   "pygments_lexer": "ipython3",
   "version": "3.7.11"
  },
  "vscode": {
   "interpreter": {
    "hash": "177c836934b6a63d57a075b5cc3f7812a3de8a98495a556647184ecb20fdf5fb"
   }
  }
 },
 "nbformat": 4,
 "nbformat_minor": 0
}
