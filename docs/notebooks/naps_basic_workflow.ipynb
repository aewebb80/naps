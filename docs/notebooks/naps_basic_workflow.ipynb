{
 "cells": [
  {
   "cell_type": "markdown",
   "metadata": {
    "id": "SDq-1wfhRBWs"
   },
   "source": [
    "<a href=\"https://colab.research.google.com/github/kocherlab/naps/blob/main/docs/notebooks/naps_basic_workflow.ipynb\" target=\"_parent\"><img src=\"https://colab.research.google.com/assets/colab-badge.svg\" alt=\"Open In Colab\"/></a>"
   ]
  },
  {
   "cell_type": "markdown",
   "metadata": {
    "id": "__EV0njV4R2-"
   },
   "source": [
    "# Notebook: Example NAPS usage"
   ]
  },
  {
   "cell_type": "markdown",
   "metadata": {
    "id": "LlV70jDuWzea"
   },
   "source": [
    "In this notebook we'll install NAPS, pull the example data from the [GitHub repository](https://github.com/kocherlab/naps), and run `naps-track` against it.\n",
    "\n",
    "This repo is particularly useful in combination with SLEAP's example notebook on remote training and inference which can be found [here](https://colab.research.google.com/github/talmolab/sleap/blob/main/docs/notebooks/Training_and_inference_on_an_example_dataset.ipynb)."
   ]
  },
  {
   "cell_type": "markdown",
   "metadata": {
    "id": "yX9noEb8m8re"
   },
   "source": [
    "## Install NAPS"
   ]
  },
  {
   "cell_type": "code",
   "execution_count": 1,
   "metadata": {
    "id": "DUfnkxMtLcK3"
   },
   "outputs": [
    {
     "name": "stdout",
     "output_type": "stream",
     "text": [
      "Found existing installation: naps-track 1.0.0\n",
      "Uninstalling naps-track-1.0.0:\n",
      "  Successfully uninstalled naps-track-1.0.0\n",
      "Collecting git+https://github.com/kocherlab/naps@develop\n",
      "  Cloning https://github.com/kocherlab/naps (to revision develop) to /tmp/pip-req-build-zmn7lfu6\n",
      "  Running command git clone -q https://github.com/kocherlab/naps /tmp/pip-req-build-zmn7lfu6\n",
      "  Running command git checkout -b develop --track origin/develop\n",
      "  Switched to a new branch 'develop'\n",
      "  Branch 'develop' set up to track remote branch 'develop' from 'origin'.\n",
      "  Resolved https://github.com/kocherlab/naps to commit f85eec03f5b3ca0e16b64f32adeec50ce17accc3\n",
      "Requirement already satisfied: numpy<1.23.0,>=1.19.5 in /Genomics/argo/users/swwolf/.conda/envs/sleap_dev/lib/python3.7/site-packages (from naps-track==1.0.0) (1.20.0)\n",
      "Requirement already satisfied: scipy<=1.9.0,>=1.4.1 in /Genomics/argo/users/swwolf/.conda/envs/sleap_dev/lib/python3.7/site-packages (from naps-track==1.0.0) (1.7.3)\n",
      "Requirement already satisfied: h5py<=3.7.0,>=3.1.0 in /Genomics/argo/users/swwolf/.conda/envs/sleap_dev/lib/python3.7/site-packages (from naps-track==1.0.0) (3.6.0)\n",
      "Requirement already satisfied: pandas in /Genomics/argo/users/swwolf/.conda/envs/sleap_dev/lib/python3.7/site-packages (from naps-track==1.0.0) (1.3.4)\n",
      "Requirement already satisfied: sleap>=1.2.4 in /Genomics/argo/users/swwolf/.conda/envs/sleap_dev/lib/python3.7/site-packages (from naps-track==1.0.0) (1.2.8)\n",
      "Requirement already satisfied: opencv-contrib-python-headless==4.6.0.66 in /Genomics/argo/users/swwolf/.conda/envs/sleap_dev/lib/python3.7/site-packages (from naps-track==1.0.0) (4.6.0.66)\n",
      "Requirement already satisfied: pytest in /Genomics/argo/users/swwolf/.conda/envs/sleap_dev/lib/python3.7/site-packages (from naps-track==1.0.0) (6.2.5)\n",
      "Requirement already satisfied: pytest-cov in /Genomics/argo/users/swwolf/.conda/envs/sleap_dev/lib/python3.7/site-packages (from naps-track==1.0.0) (3.0.0)\n",
      "Requirement already satisfied: tqdm in /Genomics/argo/users/swwolf/.conda/envs/sleap_dev/lib/python3.7/site-packages (from naps-track==1.0.0) (4.62.3)\n",
      "Requirement already satisfied: cached-property in /Genomics/argo/users/swwolf/.conda/envs/sleap_dev/lib/python3.7/site-packages (from h5py<=3.7.0,>=3.1.0->naps-track==1.0.0) (1.5.2)\n",
      "Requirement already satisfied: pyzmq in /Genomics/argo/users/swwolf/.conda/envs/sleap_dev/lib/python3.7/site-packages (from sleap>=1.2.4->naps-track==1.0.0) (22.3.0)\n",
      "Requirement already satisfied: jsonpickle==1.2 in /Genomics/argo/users/swwolf/.conda/envs/sleap_dev/lib/python3.7/site-packages (from sleap>=1.2.4->naps-track==1.0.0) (1.2)\n",
      "Requirement already satisfied: imgstore==0.2.9 in /Genomics/argo/users/swwolf/.conda/envs/sleap_dev/lib/python3.7/site-packages (from sleap>=1.2.4->naps-track==1.0.0) (0.2.9)\n",
      "Requirement already satisfied: jsmin in /Genomics/argo/users/swwolf/.conda/envs/sleap_dev/lib/python3.7/site-packages (from sleap>=1.2.4->naps-track==1.0.0) (3.0.0)\n",
      "Requirement already satisfied: qimage2ndarray>=1.9.0 in /Genomics/argo/users/swwolf/.conda/envs/sleap_dev/lib/python3.7/site-packages (from sleap>=1.2.4->naps-track==1.0.0) (1.9.0)\n",
      "Requirement already satisfied: pillow<=8.4.0,>=8.3.1 in /Genomics/argo/users/swwolf/.conda/envs/sleap_dev/lib/python3.7/site-packages (from sleap>=1.2.4->naps-track==1.0.0) (8.4.0)\n",
      "Requirement already satisfied: qtpy>=2.0.1 in /Genomics/argo/users/swwolf/.conda/envs/sleap_dev/lib/python3.7/site-packages (from sleap>=1.2.4->naps-track==1.0.0) (2.2.0)\n",
      "Requirement already satisfied: pykalman==0.9.5 in /Genomics/argo/users/swwolf/.conda/envs/sleap_dev/lib/python3.7/site-packages (from sleap>=1.2.4->naps-track==1.0.0) (0.9.5)\n",
      "Requirement already satisfied: certifi<=2021.10.8,>=2017.4.17 in /Genomics/argo/users/swwolf/.conda/envs/sleap_dev/lib/python3.7/site-packages (from sleap>=1.2.4->naps-track==1.0.0) (2021.10.8)\n",
      "Requirement already satisfied: ndx-pose in /Genomics/argo/users/swwolf/.conda/envs/sleap_dev/lib/python3.7/site-packages (from sleap>=1.2.4->naps-track==1.0.0) (0.1.1)\n",
      "Requirement already satisfied: psutil in /Genomics/argo/users/swwolf/.conda/envs/sleap_dev/lib/python3.7/site-packages (from sleap>=1.2.4->naps-track==1.0.0) (5.8.0)\n",
      "Requirement already satisfied: scikit-image in /Genomics/argo/users/swwolf/.conda/envs/sleap_dev/lib/python3.7/site-packages (from sleap>=1.2.4->naps-track==1.0.0) (0.19.0)\n",
      "Requirement already satisfied: scikit-video in /Genomics/argo/users/swwolf/.conda/envs/sleap_dev/lib/python3.7/site-packages (from sleap>=1.2.4->naps-track==1.0.0) (1.1.11)\n",
      "Requirement already satisfied: attrs<=21.4.0,>=21.2.0 in /Genomics/argo/users/swwolf/.conda/envs/sleap_dev/lib/python3.7/site-packages (from sleap>=1.2.4->naps-track==1.0.0) (21.2.0)\n",
      "Requirement already satisfied: PySide2<=5.14.1,>=5.13.2 in /Genomics/argo/users/swwolf/.local/lib/python3.7/site-packages (from sleap>=1.2.4->naps-track==1.0.0) (5.14.1)\n",
      "Collecting opencv-python<=4.6.0,>=4.2.0\n",
      "  Using cached opencv_python-4.5.5.64-cp36-abi3-manylinux_2_17_x86_64.manylinux2014_x86_64.whl (60.5 MB)\n",
      "Requirement already satisfied: segmentation-models==1.0.1 in /Genomics/argo/users/swwolf/.conda/envs/sleap_dev/lib/python3.7/site-packages (from sleap>=1.2.4->naps-track==1.0.0) (1.0.1)\n",
      "Requirement already satisfied: seaborn in /Genomics/argo/users/swwolf/.conda/envs/sleap_dev/lib/python3.7/site-packages (from sleap>=1.2.4->naps-track==1.0.0) (0.11.2)\n",
      "Requirement already satisfied: rich==10.16.1 in /Genomics/argo/users/swwolf/.conda/envs/sleap_dev/lib/python3.7/site-packages (from sleap>=1.2.4->naps-track==1.0.0) (10.16.1)\n",
      "Requirement already satisfied: tensorflow<2.9.0,>=2.6.3 in /Genomics/argo/users/swwolf/.conda/envs/sleap_dev/lib/python3.7/site-packages (from sleap>=1.2.4->naps-track==1.0.0) (2.7.0)\n",
      "Requirement already satisfied: imgaug==0.4.0 in /Genomics/argo/users/swwolf/.conda/envs/sleap_dev/lib/python3.7/site-packages (from sleap>=1.2.4->naps-track==1.0.0) (0.4.0)\n",
      "Requirement already satisfied: python-rapidjson in /Genomics/argo/users/swwolf/.conda/envs/sleap_dev/lib/python3.7/site-packages (from sleap>=1.2.4->naps-track==1.0.0) (1.5)\n",
      "Requirement already satisfied: pynwb in /Genomics/argo/users/swwolf/.conda/envs/sleap_dev/lib/python3.7/site-packages (from sleap>=1.2.4->naps-track==1.0.0) (2.1.0)\n",
      "Requirement already satisfied: imageio<=2.15.0 in /Genomics/argo/users/swwolf/.conda/envs/sleap_dev/lib/python3.7/site-packages (from sleap>=1.2.4->naps-track==1.0.0) (2.4.1)\n",
      "Requirement already satisfied: networkx in /Genomics/argo/users/swwolf/.conda/envs/sleap_dev/lib/python3.7/site-packages (from sleap>=1.2.4->naps-track==1.0.0) (2.6.3)\n",
      "Requirement already satisfied: pyyaml in /Genomics/argo/users/swwolf/.conda/envs/sleap_dev/lib/python3.7/site-packages (from sleap>=1.2.4->naps-track==1.0.0) (6.0)\n",
      "Requirement already satisfied: cattrs==1.1.1 in /Genomics/argo/users/swwolf/.conda/envs/sleap_dev/lib/python3.7/site-packages (from sleap>=1.2.4->naps-track==1.0.0) (1.1.1)\n",
      "Requirement already satisfied: scikit-learn==1.0.* in /Genomics/argo/users/swwolf/.conda/envs/sleap_dev/lib/python3.7/site-packages (from sleap>=1.2.4->naps-track==1.0.0) (1.0.1)\n",
      "Requirement already satisfied: six in /Genomics/argo/users/swwolf/.conda/envs/sleap_dev/lib/python3.7/site-packages (from imgaug==0.4.0->sleap>=1.2.4->naps-track==1.0.0) (1.16.0)\n",
      "Requirement already satisfied: matplotlib in /Genomics/argo/users/swwolf/.conda/envs/sleap_dev/lib/python3.7/site-packages (from imgaug==0.4.0->sleap>=1.2.4->naps-track==1.0.0) (3.5.1)\n",
      "Requirement already satisfied: Shapely in /Genomics/argo/users/swwolf/.conda/envs/sleap_dev/lib/python3.7/site-packages (from imgaug==0.4.0->sleap>=1.2.4->naps-track==1.0.0) (1.7.1)\n",
      "Requirement already satisfied: pytz in /Genomics/argo/users/swwolf/.conda/envs/sleap_dev/lib/python3.7/site-packages (from imgstore==0.2.9->sleap>=1.2.4->naps-track==1.0.0) (2021.3)\n",
      "Requirement already satisfied: tzlocal in /Genomics/argo/users/swwolf/.conda/envs/sleap_dev/lib/python3.7/site-packages (from imgstore==0.2.9->sleap>=1.2.4->naps-track==1.0.0) (4.1)\n",
      "Requirement already satisfied: python-dateutil in /Genomics/argo/users/swwolf/.conda/envs/sleap_dev/lib/python3.7/site-packages (from imgstore==0.2.9->sleap>=1.2.4->naps-track==1.0.0) (2.8.2)\n",
      "Requirement already satisfied: colorama<0.5.0,>=0.4.0 in /Genomics/argo/users/swwolf/.conda/envs/sleap_dev/lib/python3.7/site-packages (from rich==10.16.1->sleap>=1.2.4->naps-track==1.0.0) (0.4.4)\n",
      "Requirement already satisfied: pygments<3.0.0,>=2.6.0 in /Genomics/argo/users/swwolf/.conda/envs/sleap_dev/lib/python3.7/site-packages (from rich==10.16.1->sleap>=1.2.4->naps-track==1.0.0) (2.10.0)\n",
      "Requirement already satisfied: typing-extensions<5.0,>=3.7.4 in /Genomics/argo/users/swwolf/.conda/envs/sleap_dev/lib/python3.7/site-packages (from rich==10.16.1->sleap>=1.2.4->naps-track==1.0.0) (3.10.0.2)\n",
      "Requirement already satisfied: commonmark<0.10.0,>=0.9.0 in /Genomics/argo/users/swwolf/.conda/envs/sleap_dev/lib/python3.7/site-packages (from rich==10.16.1->sleap>=1.2.4->naps-track==1.0.0) (0.9.1)\n",
      "Requirement already satisfied: threadpoolctl>=2.0.0 in /Genomics/argo/users/swwolf/.conda/envs/sleap_dev/lib/python3.7/site-packages (from scikit-learn==1.0.*->sleap>=1.2.4->naps-track==1.0.0) (3.0.0)\n",
      "Requirement already satisfied: joblib>=0.11 in /Genomics/argo/users/swwolf/.conda/envs/sleap_dev/lib/python3.7/site-packages (from scikit-learn==1.0.*->sleap>=1.2.4->naps-track==1.0.0) (1.1.0)\n",
      "Requirement already satisfied: efficientnet==1.0.0 in /Genomics/argo/users/swwolf/.conda/envs/sleap_dev/lib/python3.7/site-packages (from segmentation-models==1.0.1->sleap>=1.2.4->naps-track==1.0.0) (1.0.0)\n",
      "Requirement already satisfied: image-classifiers==1.0.0 in /Genomics/argo/users/swwolf/.conda/envs/sleap_dev/lib/python3.7/site-packages (from segmentation-models==1.0.1->sleap>=1.2.4->naps-track==1.0.0) (1.0.0)\n",
      "Requirement already satisfied: keras-applications<=1.0.8,>=1.0.7 in /Genomics/argo/users/swwolf/.conda/envs/sleap_dev/lib/python3.7/site-packages (from segmentation-models==1.0.1->sleap>=1.2.4->naps-track==1.0.0) (1.0.8)\n",
      "Requirement already satisfied: shiboken2==5.14.1 in /Genomics/argo/users/swwolf/.local/lib/python3.7/site-packages (from PySide2<=5.14.1,>=5.13.2->sleap>=1.2.4->naps-track==1.0.0) (5.14.1)\n",
      "Requirement already satisfied: packaging in /Genomics/argo/users/swwolf/.conda/envs/sleap_dev/lib/python3.7/site-packages (from qtpy>=2.0.1->sleap>=1.2.4->naps-track==1.0.0) (21.3)\n",
      "Requirement already satisfied: tifffile>=2019.7.26 in /Genomics/argo/users/swwolf/.conda/envs/sleap_dev/lib/python3.7/site-packages (from scikit-image->sleap>=1.2.4->naps-track==1.0.0) (2021.11.2)\n",
      "Requirement already satisfied: PyWavelets>=1.1.1 in /Genomics/argo/users/swwolf/.conda/envs/sleap_dev/lib/python3.7/site-packages (from scikit-image->sleap>=1.2.4->naps-track==1.0.0) (1.2.0)\n",
      "Requirement already satisfied: pyparsing!=3.0.5,>=2.0.2 in /Genomics/argo/users/swwolf/.conda/envs/sleap_dev/lib/python3.7/site-packages (from packaging->qtpy>=2.0.1->sleap>=1.2.4->naps-track==1.0.0) (3.0.4)\n",
      "Requirement already satisfied: astunparse>=1.6.0 in /Genomics/argo/users/swwolf/.conda/envs/sleap_dev/lib/python3.7/site-packages (from tensorflow<2.9.0,>=2.6.3->sleap>=1.2.4->naps-track==1.0.0) (1.6.3)\n",
      "Requirement already satisfied: wheel<1.0,>=0.32.0 in /Genomics/argo/users/swwolf/.conda/envs/sleap_dev/lib/python3.7/site-packages (from tensorflow<2.9.0,>=2.6.3->sleap>=1.2.4->naps-track==1.0.0) (0.37.1)\n",
      "Requirement already satisfied: google-pasta>=0.1.1 in /Genomics/argo/users/swwolf/.conda/envs/sleap_dev/lib/python3.7/site-packages (from tensorflow<2.9.0,>=2.6.3->sleap>=1.2.4->naps-track==1.0.0) (0.2.0)\n",
      "Requirement already satisfied: termcolor>=1.1.0 in /Genomics/argo/users/swwolf/.conda/envs/sleap_dev/lib/python3.7/site-packages (from tensorflow<2.9.0,>=2.6.3->sleap>=1.2.4->naps-track==1.0.0) (1.1.0)\n",
      "Requirement already satisfied: keras-preprocessing>=1.1.1 in /Genomics/argo/users/swwolf/.conda/envs/sleap_dev/lib/python3.7/site-packages (from tensorflow<2.9.0,>=2.6.3->sleap>=1.2.4->naps-track==1.0.0) (1.1.2)\n",
      "Requirement already satisfied: wrapt>=1.11.0 in /Genomics/argo/users/swwolf/.conda/envs/sleap_dev/lib/python3.7/site-packages (from tensorflow<2.9.0,>=2.6.3->sleap>=1.2.4->naps-track==1.0.0) (1.13.3)\n",
      "Requirement already satisfied: flatbuffers<3.0,>=1.12 in /Genomics/argo/users/swwolf/.conda/envs/sleap_dev/lib/python3.7/site-packages (from tensorflow<2.9.0,>=2.6.3->sleap>=1.2.4->naps-track==1.0.0) (2.0)\n",
      "Requirement already satisfied: grpcio<2.0,>=1.24.3 in /Genomics/argo/users/swwolf/.conda/envs/sleap_dev/lib/python3.7/site-packages (from tensorflow<2.9.0,>=2.6.3->sleap>=1.2.4->naps-track==1.0.0) (1.41.1)\n",
      "Requirement already satisfied: gast<0.5.0,>=0.2.1 in /Genomics/argo/users/swwolf/.conda/envs/sleap_dev/lib/python3.7/site-packages (from tensorflow<2.9.0,>=2.6.3->sleap>=1.2.4->naps-track==1.0.0) (0.4.0)\n",
      "Requirement already satisfied: tensorboard~=2.6 in /Genomics/argo/users/swwolf/.conda/envs/sleap_dev/lib/python3.7/site-packages (from tensorflow<2.9.0,>=2.6.3->sleap>=1.2.4->naps-track==1.0.0) (2.7.0)\n",
      "Requirement already satisfied: tensorflow-estimator<2.8,~=2.7.0rc0 in /Genomics/argo/users/swwolf/.conda/envs/sleap_dev/lib/python3.7/site-packages (from tensorflow<2.9.0,>=2.6.3->sleap>=1.2.4->naps-track==1.0.0) (2.7.0)\n",
      "Requirement already satisfied: absl-py>=0.4.0 in /Genomics/argo/users/swwolf/.conda/envs/sleap_dev/lib/python3.7/site-packages (from tensorflow<2.9.0,>=2.6.3->sleap>=1.2.4->naps-track==1.0.0) (1.0.0)\n",
      "Requirement already satisfied: opt-einsum>=2.3.2 in /Genomics/argo/users/swwolf/.conda/envs/sleap_dev/lib/python3.7/site-packages (from tensorflow<2.9.0,>=2.6.3->sleap>=1.2.4->naps-track==1.0.0) (3.3.0)\n",
      "Requirement already satisfied: libclang>=9.0.1 in /Genomics/argo/users/swwolf/.conda/envs/sleap_dev/lib/python3.7/site-packages (from tensorflow<2.9.0,>=2.6.3->sleap>=1.2.4->naps-track==1.0.0) (12.0.0)\n",
      "Requirement already satisfied: keras<2.8,>=2.7.0rc0 in /Genomics/argo/users/swwolf/.conda/envs/sleap_dev/lib/python3.7/site-packages (from tensorflow<2.9.0,>=2.6.3->sleap>=1.2.4->naps-track==1.0.0) (2.7.0)\n",
      "Requirement already satisfied: tensorflow-io-gcs-filesystem>=0.21.0 in /Genomics/argo/users/swwolf/.conda/envs/sleap_dev/lib/python3.7/site-packages (from tensorflow<2.9.0,>=2.6.3->sleap>=1.2.4->naps-track==1.0.0) (0.22.0)\n",
      "Requirement already satisfied: protobuf>=3.9.2 in /Genomics/argo/users/swwolf/.conda/envs/sleap_dev/lib/python3.7/site-packages (from tensorflow<2.9.0,>=2.6.3->sleap>=1.2.4->naps-track==1.0.0) (3.19.1)\n",
      "Requirement already satisfied: requests<3,>=2.21.0 in /Genomics/argo/users/swwolf/.conda/envs/sleap_dev/lib/python3.7/site-packages (from tensorboard~=2.6->tensorflow<2.9.0,>=2.6.3->sleap>=1.2.4->naps-track==1.0.0) (2.26.0)\n",
      "Requirement already satisfied: tensorboard-plugin-wit>=1.6.0 in /Genomics/argo/users/swwolf/.conda/envs/sleap_dev/lib/python3.7/site-packages (from tensorboard~=2.6->tensorflow<2.9.0,>=2.6.3->sleap>=1.2.4->naps-track==1.0.0) (1.8.0)\n",
      "Requirement already satisfied: google-auth-oauthlib<0.5,>=0.4.1 in /Genomics/argo/users/swwolf/.conda/envs/sleap_dev/lib/python3.7/site-packages (from tensorboard~=2.6->tensorflow<2.9.0,>=2.6.3->sleap>=1.2.4->naps-track==1.0.0) (0.4.6)\n",
      "Requirement already satisfied: setuptools>=41.0.0 in /Genomics/argo/users/swwolf/.conda/envs/sleap_dev/lib/python3.7/site-packages (from tensorboard~=2.6->tensorflow<2.9.0,>=2.6.3->sleap>=1.2.4->naps-track==1.0.0) (58.0.4)\n",
      "Requirement already satisfied: google-auth<3,>=1.6.3 in /Genomics/argo/users/swwolf/.conda/envs/sleap_dev/lib/python3.7/site-packages (from tensorboard~=2.6->tensorflow<2.9.0,>=2.6.3->sleap>=1.2.4->naps-track==1.0.0) (2.3.3)\n",
      "Requirement already satisfied: werkzeug>=0.11.15 in /Genomics/argo/users/swwolf/.conda/envs/sleap_dev/lib/python3.7/site-packages (from tensorboard~=2.6->tensorflow<2.9.0,>=2.6.3->sleap>=1.2.4->naps-track==1.0.0) (2.0.2)\n",
      "Requirement already satisfied: tensorboard-data-server<0.7.0,>=0.6.0 in /Genomics/argo/users/swwolf/.conda/envs/sleap_dev/lib/python3.7/site-packages (from tensorboard~=2.6->tensorflow<2.9.0,>=2.6.3->sleap>=1.2.4->naps-track==1.0.0) (0.6.1)\n",
      "Requirement already satisfied: markdown>=2.6.8 in /Genomics/argo/users/swwolf/.conda/envs/sleap_dev/lib/python3.7/site-packages (from tensorboard~=2.6->tensorflow<2.9.0,>=2.6.3->sleap>=1.2.4->naps-track==1.0.0) (3.3.5)\n",
      "Requirement already satisfied: cachetools<5.0,>=2.0.0 in /Genomics/argo/users/swwolf/.conda/envs/sleap_dev/lib/python3.7/site-packages (from google-auth<3,>=1.6.3->tensorboard~=2.6->tensorflow<2.9.0,>=2.6.3->sleap>=1.2.4->naps-track==1.0.0) (4.2.4)\n",
      "Requirement already satisfied: rsa<5,>=3.1.4 in /Genomics/argo/users/swwolf/.conda/envs/sleap_dev/lib/python3.7/site-packages (from google-auth<3,>=1.6.3->tensorboard~=2.6->tensorflow<2.9.0,>=2.6.3->sleap>=1.2.4->naps-track==1.0.0) (4.7.2)\n",
      "Requirement already satisfied: pyasn1-modules>=0.2.1 in /Genomics/argo/users/swwolf/.conda/envs/sleap_dev/lib/python3.7/site-packages (from google-auth<3,>=1.6.3->tensorboard~=2.6->tensorflow<2.9.0,>=2.6.3->sleap>=1.2.4->naps-track==1.0.0) (0.2.8)\n",
      "Requirement already satisfied: requests-oauthlib>=0.7.0 in /Genomics/argo/users/swwolf/.conda/envs/sleap_dev/lib/python3.7/site-packages (from google-auth-oauthlib<0.5,>=0.4.1->tensorboard~=2.6->tensorflow<2.9.0,>=2.6.3->sleap>=1.2.4->naps-track==1.0.0) (1.3.0)\n",
      "Requirement already satisfied: importlib-metadata>='4.4' in /Genomics/argo/users/swwolf/.conda/envs/sleap_dev/lib/python3.7/site-packages (from markdown>=2.6.8->tensorboard~=2.6->tensorflow<2.9.0,>=2.6.3->sleap>=1.2.4->naps-track==1.0.0) (4.2.0)\n",
      "Requirement already satisfied: zipp>=0.5 in /Genomics/argo/users/swwolf/.conda/envs/sleap_dev/lib/python3.7/site-packages (from importlib-metadata>='4.4'->markdown>=2.6.8->tensorboard~=2.6->tensorflow<2.9.0,>=2.6.3->sleap>=1.2.4->naps-track==1.0.0) (3.6.0)\n",
      "Requirement already satisfied: pyasn1<0.5.0,>=0.4.6 in /Genomics/argo/users/swwolf/.conda/envs/sleap_dev/lib/python3.7/site-packages (from pyasn1-modules>=0.2.1->google-auth<3,>=1.6.3->tensorboard~=2.6->tensorflow<2.9.0,>=2.6.3->sleap>=1.2.4->naps-track==1.0.0) (0.4.8)\n",
      "Requirement already satisfied: urllib3<1.27,>=1.21.1 in /Genomics/argo/users/swwolf/.conda/envs/sleap_dev/lib/python3.7/site-packages (from requests<3,>=2.21.0->tensorboard~=2.6->tensorflow<2.9.0,>=2.6.3->sleap>=1.2.4->naps-track==1.0.0) (1.26.7)\n",
      "Requirement already satisfied: idna<4,>=2.5 in /Genomics/argo/users/swwolf/.conda/envs/sleap_dev/lib/python3.7/site-packages (from requests<3,>=2.21.0->tensorboard~=2.6->tensorflow<2.9.0,>=2.6.3->sleap>=1.2.4->naps-track==1.0.0) (3.3)\n",
      "Requirement already satisfied: charset-normalizer~=2.0.0 in /Genomics/argo/users/swwolf/.conda/envs/sleap_dev/lib/python3.7/site-packages (from requests<3,>=2.21.0->tensorboard~=2.6->tensorflow<2.9.0,>=2.6.3->sleap>=1.2.4->naps-track==1.0.0) (2.0.7)\n",
      "Requirement already satisfied: oauthlib>=3.0.0 in /Genomics/argo/users/swwolf/.conda/envs/sleap_dev/lib/python3.7/site-packages (from requests-oauthlib>=0.7.0->google-auth-oauthlib<0.5,>=0.4.1->tensorboard~=2.6->tensorflow<2.9.0,>=2.6.3->sleap>=1.2.4->naps-track==1.0.0) (3.1.1)\n",
      "Requirement already satisfied: kiwisolver>=1.0.1 in /Genomics/argo/users/swwolf/.conda/envs/sleap_dev/lib/python3.7/site-packages (from matplotlib->imgaug==0.4.0->sleap>=1.2.4->naps-track==1.0.0) (1.3.2)\n",
      "Requirement already satisfied: cycler>=0.10 in /Genomics/argo/users/swwolf/.conda/envs/sleap_dev/lib/python3.7/site-packages (from matplotlib->imgaug==0.4.0->sleap>=1.2.4->naps-track==1.0.0) (0.11.0)\n",
      "Requirement already satisfied: fonttools>=4.22.0 in /Genomics/argo/users/swwolf/.conda/envs/sleap_dev/lib/python3.7/site-packages (from matplotlib->imgaug==0.4.0->sleap>=1.2.4->naps-track==1.0.0) (4.28.5)\n",
      "Requirement already satisfied: hdmf<4,>=2.5.6 in /Genomics/argo/users/swwolf/.conda/envs/sleap_dev/lib/python3.7/site-packages (from ndx-pose->sleap>=1.2.4->naps-track==1.0.0) (3.3.2)\n",
      "Requirement already satisfied: ruamel.yaml<1,>=0.16 in /Genomics/argo/users/swwolf/.conda/envs/sleap_dev/lib/python3.7/site-packages (from hdmf<4,>=2.5.6->ndx-pose->sleap>=1.2.4->naps-track==1.0.0) (0.17.21)\n",
      "Requirement already satisfied: jsonschema<5,>=2.6.0 in /Genomics/argo/users/swwolf/.conda/envs/sleap_dev/lib/python3.7/site-packages (from hdmf<4,>=2.5.6->ndx-pose->sleap>=1.2.4->naps-track==1.0.0) (4.2.1)\n",
      "Requirement already satisfied: importlib-resources>=1.4.0 in /Genomics/argo/users/swwolf/.conda/envs/sleap_dev/lib/python3.7/site-packages (from jsonschema<5,>=2.6.0->hdmf<4,>=2.5.6->ndx-pose->sleap>=1.2.4->naps-track==1.0.0) (5.4.0)\n",
      "Requirement already satisfied: pyrsistent!=0.17.0,!=0.17.1,!=0.17.2,>=0.14.0 in /Genomics/argo/users/swwolf/.conda/envs/sleap_dev/lib/python3.7/site-packages (from jsonschema<5,>=2.6.0->hdmf<4,>=2.5.6->ndx-pose->sleap>=1.2.4->naps-track==1.0.0) (0.18.0)\n",
      "Requirement already satisfied: ruamel.yaml.clib>=0.2.6 in /Genomics/argo/users/swwolf/.conda/envs/sleap_dev/lib/python3.7/site-packages (from ruamel.yaml<1,>=0.16->hdmf<4,>=2.5.6->ndx-pose->sleap>=1.2.4->naps-track==1.0.0) (0.2.6)\n",
      "Requirement already satisfied: py>=1.8.2 in /Genomics/argo/users/swwolf/.conda/envs/sleap_dev/lib/python3.7/site-packages (from pytest->naps-track==1.0.0) (1.11.0)\n",
      "Requirement already satisfied: pluggy<2.0,>=0.12 in /Genomics/argo/users/swwolf/.conda/envs/sleap_dev/lib/python3.7/site-packages (from pytest->naps-track==1.0.0) (1.0.0)\n",
      "Requirement already satisfied: toml in /Genomics/argo/users/swwolf/.conda/envs/sleap_dev/lib/python3.7/site-packages (from pytest->naps-track==1.0.0) (0.10.2)\n",
      "Requirement already satisfied: iniconfig in /Genomics/argo/users/swwolf/.conda/envs/sleap_dev/lib/python3.7/site-packages (from pytest->naps-track==1.0.0) (1.1.1)\n",
      "Requirement already satisfied: coverage[toml]>=5.2.1 in /Genomics/argo/users/swwolf/.conda/envs/sleap_dev/lib/python3.7/site-packages (from pytest-cov->naps-track==1.0.0) (6.2)\n",
      "Requirement already satisfied: tomli in /Genomics/argo/users/swwolf/.conda/envs/sleap_dev/lib/python3.7/site-packages (from coverage[toml]>=5.2.1->pytest-cov->naps-track==1.0.0) (1.2.2)\n",
      "Requirement already satisfied: backports.zoneinfo in /Genomics/argo/users/swwolf/.conda/envs/sleap_dev/lib/python3.7/site-packages (from tzlocal->imgstore==0.2.9->sleap>=1.2.4->naps-track==1.0.0) (0.2.1)\n",
      "Requirement already satisfied: pytz-deprecation-shim in /Genomics/argo/users/swwolf/.conda/envs/sleap_dev/lib/python3.7/site-packages (from tzlocal->imgstore==0.2.9->sleap>=1.2.4->naps-track==1.0.0) (0.1.0.post0)\n",
      "Requirement already satisfied: tzdata in /Genomics/argo/users/swwolf/.conda/envs/sleap_dev/lib/python3.7/site-packages (from pytz-deprecation-shim->tzlocal->imgstore==0.2.9->sleap>=1.2.4->naps-track==1.0.0) (2021.5)\n",
      "Building wheels for collected packages: naps-track\n",
      "  Building wheel for naps-track (setup.py) ... \u001b[?25ldone\n",
      "\u001b[?25h  Created wheel for naps-track: filename=naps_track-1.0.0-py3-none-any.whl size=16774 sha256=0198d57d75da915b591f79bdcbf5e68ee68ee359445d0489f6788c2e93d3aa83\n",
      "  Stored in directory: /tmp/pip-ephem-wheel-cache-qo_5wpjx/wheels/df/d1/73/51fdc1c64cc94e1af058382eae4f4326a3e247085eaf231b38\n",
      "Successfully built naps-track\n",
      "Installing collected packages: opencv-python, naps-track\n",
      "Successfully installed naps-track-1.0.0 opencv-python-4.5.5.64\n"
     ]
    }
   ],
   "source": [
    "!pip install git+https://github.com/kocherlab/naps"
   ]
  },
  {
   "attachments": {},
   "cell_type": "markdown",
   "metadata": {},
   "source": [
    "---\n",
    "**NOTE**\n",
    "\n",
    "Some problems may occur when installing opencv because of a conflict between SLEAP and NAPS. To fix this, run the cell below.\n",
    "\n",
    "---"
   ]
  },
  {
   "cell_type": "code",
   "execution_count": 2,
   "metadata": {},
   "outputs": [
    {
     "name": "stdout",
     "output_type": "stream",
     "text": [
      "Found existing installation: opencv-python 4.5.5.64\n",
      "Uninstalling opencv-python-4.5.5.64:\n",
      "  Successfully uninstalled opencv-python-4.5.5.64\n",
      "Found existing installation: opencv-contrib-python 4.6.0.66\n",
      "Uninstalling opencv-contrib-python-4.6.0.66:\n",
      "  Successfully uninstalled opencv-contrib-python-4.6.0.66\n",
      "Collecting opencv-contrib-python==4.6.0.66\n",
      "  Using cached opencv_contrib_python-4.6.0.66-cp36-abi3-manylinux_2_17_x86_64.manylinux2014_x86_64.whl (67.1 MB)\n",
      "Requirement already satisfied: numpy>=1.14.5 in /Genomics/argo/users/swwolf/.conda/envs/sleap_dev/lib/python3.7/site-packages (from opencv-contrib-python==4.6.0.66) (1.20.0)\n",
      "Installing collected packages: opencv-contrib-python\n",
      "Successfully installed opencv-contrib-python-4.6.0.66\n"
     ]
    }
   ],
   "source": [
    "# !pip uninstall opencv-python -y\n",
    "# !pip uninstall opencv-contrib-python -y\n",
    "# !pip install opencv-contrib-python==4.6.0.66"
   ]
  },
  {
   "cell_type": "code",
   "execution_count": 3,
   "metadata": {
    "id": "2imnIw6QWa1z"
   },
   "outputs": [],
   "source": [
    "# If you have a model and want to do the inference on Colab, this can be done quite directly! Just upload your model and run inference as below.\n",
    "# You can also take advantage of the GPU accessibility of Colab to train as well. Look to the SLEAP tutorials for more info.\n",
    "# The models used for these videos can be found at https://doi.org/10.34770/6t6b-9545\n",
    "\n",
    "# !sleap-track example.mp4 -o example-testing.slp -m naps_data/sleap-models/centroid -m naps_data/sleap-models/centered_instance --verbosity json --batch_size 1 --tracking.tracker simple --tracking.similarity iou --tracking.post_connect_single_breaks 1 --tracking.pre_cull_to_target 50 --tracking.target_instance_count 50 --tacking.clean_instance_count 50 --gpu 0"
   ]
  },
  {
   "cell_type": "markdown",
   "metadata": {
    "id": "iq7jrgUksLtR"
   },
   "source": [
    "## Download sample training data into Colab\n",
    "Let's download a sample dataset from the the NAPS repository.\n"
   ]
  },
  {
   "cell_type": "code",
   "execution_count": 4,
   "metadata": {
    "id": "GBUTQ2Cm44En"
   },
   "outputs": [],
   "source": [
    "!wget https://github.com/kocherlab/naps/raw/main/docs/notebooks/example_data/example.slp\n",
    "!wget https://github.com/kocherlab/naps/raw/main/docs/notebooks/example_data/example.analysis.h5\n",
    "!wget https://github.com/kocherlab/naps/raw/main/docs/notebooks/example_data/example.mp4"
   ]
  },
  {
   "cell_type": "code",
   "execution_count": 5,
   "metadata": {
    "id": "oaiFu3s3HVcH"
   },
   "outputs": [
    {
     "name": "stdout",
     "output_type": "stream",
     "text": [
      "total 584M\n",
      "-rw-rw-r--. 1 swwolf julienlb  56M Jan  9 14:19 example.mp4.3\n",
      "-rw-rw-r--. 1 swwolf julienlb 8.0M Jan  9 14:19 example.analysis.h5.3\n",
      "-rw-rw-r--. 1 swwolf julienlb  29M Jan  9 14:19 example.slp.3\n",
      "-rw-rw-r--. 1 swwolf julienlb  29M Jan  9 13:19 example-naps.slp\n",
      "-rw-rw-r--. 1 swwolf julienlb  48K Jan  9 13:15 naps_basic_workflow.ipynb\n",
      "-rw-rw-r--. 1 swwolf julienlb  56M Jan  9 12:56 example.mp4.2\n",
      "-rw-rw-r--. 1 swwolf julienlb 8.0M Jan  9 12:56 example.analysis.h5.2\n",
      "-rw-rw-r--. 1 swwolf julienlb  29M Jan  9 12:56 example.slp.2\n",
      "-rw-rw-r--. 1 swwolf julienlb  84M Jan  9 12:08 naps_output.zip\n",
      "-rw-rw-r--. 1 swwolf julienlb  56M Jan  9 12:07 example.mp4.1\n",
      "-rw-rw-r--. 1 swwolf julienlb 8.0M Jan  9 12:07 example.analysis.h5.1\n",
      "-rw-rw-r--. 1 swwolf julienlb  29M Jan  9 12:07 example.slp.1\n",
      "-rw-rw-r--. 1 swwolf julienlb  56M Jan  9 12:04 example.mp4\n",
      "-rw-rw-r--. 1 swwolf julienlb 8.0M Jan  9 12:04 example.analysis.h5\n",
      "-rw-rw-r--. 1 swwolf julienlb  29M Jan  9 12:04 example.slp\n",
      "-rw-r--r--. 1 swwolf julienlb  16K Jan  9 11:51 naps_manuscript_graphics.ipynb\n",
      "drwxr-sr-x. 2 swwolf julienlb  296 Jan  6 19:43 example_data\n",
      "drwxr-sr-x. 8 swwolf julienlb  427 Jan  6 17:20 naps_data\n",
      "drwxr-sr-x. 2 swwolf julienlb   30 Jan  6 16:30 utils\n",
      "-rw-r--r--. 1 swwolf julienlb 532K Dec  7 13:27 SLEAP_metrics.ipynb\n",
      "drwxr-sr-x. 2 swwolf julienlb  311 Dec  7 13:10 figures\n"
     ]
    }
   ],
   "source": [
    "!ls -lht"
   ]
  },
  {
   "cell_type": "markdown",
   "metadata": {
    "id": "nIsKUX661xFK"
   },
   "source": [
    "## NAPS tracking\n",
    "Now let's track the files using `naps-track`. We've adjusted a couple params here to make the tracks nicer."
   ]
  },
  {
   "cell_type": "code",
   "execution_count": 6,
   "metadata": {
    "id": "Bi4ksVdCKbBc"
   },
   "outputs": [
    {
     "name": "stdout",
     "output_type": "stream",
     "text": [
      "2023-01-09 14:19:25 INFO     Note: detected 256 virtual cores but NumExpr set to maximum of 64, check \"NUMEXPR_MAX_THREADS\" environment variable.\n",
      "2023-01-09 14:19:25 INFO     Note: NumExpr detected 256 cores but \"NUMEXPR_MAX_THREADS\" not set, so enforcing safe limit of 8.\n",
      "2023-01-09 14:19:25 INFO     NumExpr defaulting to 8 threads.\n",
      "2023-01-09 14:23:00 INFO     Loading predictions...\n",
      "2023-01-09 14:23:20 INFO     Create ArUco model...\n",
      "2023-01-09 14:23:20 INFO     ArUco model built in 3.4809112548828125e-05 seconds.\n",
      "2023-01-09 14:23:20 INFO     Starting matching...\n",
      "Processing frames 0 to 1200\n",
      "2023-01-09 14:24:20 INFO     Done matching in 60.25310254096985 seconds.\n",
      "2023-01-09 14:24:20 INFO     Reconstructing SLEAP file...\n",
      "2023-01-09 14:24:27 INFO     Total tags: 45\n",
      "2023-01-09 14:24:28 INFO     Done reconstructing SLEAP file in 8.126000165939331 seconds.\n",
      "2023-01-09 14:24:28 INFO     Complete NAPS runtime: 87.579185962677\n"
     ]
    }
   ],
   "source": [
    "!naps-track --slp-path example.slp --video-path example.mp4 --tag-node-name tag --start-frame 0 --end-frame 1200 --aruco-marker-set DICT_5X5_50 --output-path example-naps.slp --aruco-error-correction-rate 0.6 --aruco-adaptive-thresh-constant 7 --aruco-adaptive-thresh-win-size-max 23 --aruco-adaptive-thresh-win-size-step 10 --aruco-adaptive-thresh-win-size-min 3 --half-rolling-window-size 20"
   ]
  },
  {
   "attachments": {},
   "cell_type": "markdown",
   "metadata": {
    "id": "BXDLsB7tKRZ_"
   },
   "source": [
    "## Download\n",
    "\n",
    "Now we can just download the output! This pulls the video, the output file, and the original project."
   ]
  },
  {
   "cell_type": "code",
   "execution_count": 7,
   "metadata": {
    "id": "Ej2it8dl_BO_"
   },
   "outputs": [
    {
     "name": "stdout",
     "output_type": "stream",
     "text": [
      "updating: example.mp4 (stored 0%)\n",
      "updating: example.slp (stored 0%)\n",
      "  adding: example-naps.slp (stored 0%)\n"
     ]
    },
    {
     "ename": "ModuleNotFoundError",
     "evalue": "No module named 'google.colab'",
     "output_type": "error",
     "traceback": [
      "\u001b[0;31m---------------------------------------------------------------------------\u001b[0m",
      "\u001b[0;31mModuleNotFoundError\u001b[0m                       Traceback (most recent call last)",
      "\u001b[0;32m/tmp/ipykernel_4034523/4210727394.py\u001b[0m in \u001b[0;36m<module>\u001b[0;34m\u001b[0m\n\u001b[1;32m      3\u001b[0m \u001b[0;34m\u001b[0m\u001b[0m\n\u001b[1;32m      4\u001b[0m \u001b[0;31m# Download\u001b[0m\u001b[0;34m\u001b[0m\u001b[0;34m\u001b[0m\u001b[0;34m\u001b[0m\u001b[0m\n\u001b[0;32m----> 5\u001b[0;31m \u001b[0;32mfrom\u001b[0m \u001b[0mgoogle\u001b[0m\u001b[0;34m.\u001b[0m\u001b[0mcolab\u001b[0m \u001b[0;32mimport\u001b[0m \u001b[0mfiles\u001b[0m\u001b[0;34m\u001b[0m\u001b[0;34m\u001b[0m\u001b[0m\n\u001b[0m\u001b[1;32m      6\u001b[0m \u001b[0mfiles\u001b[0m\u001b[0;34m.\u001b[0m\u001b[0mdownload\u001b[0m\u001b[0;34m(\u001b[0m\u001b[0;34m\"/content/naps_output.zip\"\u001b[0m\u001b[0;34m)\u001b[0m\u001b[0;34m\u001b[0m\u001b[0;34m\u001b[0m\u001b[0m\n",
      "\u001b[0;31mModuleNotFoundError\u001b[0m: No module named 'google.colab'"
     ]
    }
   ],
   "source": [
    "# Zip the video and output\n",
    "!zip -0 -r naps_output.zip example.mp4 example.slp example-naps.slp\n",
    "\n",
    "# Download\n",
    "from google.colab import files\n",
    "files.download(\"/content/naps_output.zip\")"
   ]
  },
  {
   "cell_type": "markdown",
   "metadata": {
    "id": "7Fy26NVmCWFw"
   },
   "source": [
    "If you happen to not be using Chrome, you may get an error here. If that happens, you should be able to download the files using the \"Files\" tab on the left side panel."
   ]
  },
  {
   "attachments": {},
   "cell_type": "markdown",
   "metadata": {
    "id": "ERsPYhzbx4GR"
   },
   "source": [
    "## After NAPS\n",
    "\n",
    "### SLEAP GUI\n",
    "\n",
    " To view the tracks, open SLEAP (`sleap-label`) and open the resulting SLEAP files directly. The track names will correspond with ArUco tags. If you want to remove individuals without identified tags, simply remove all instances not assigned to a track (custom instance delete)."
   ]
  },
  {
   "cell_type": "code",
   "execution_count": 37,
   "metadata": {},
   "outputs": [
    {
     "name": "stdout",
     "output_type": "stream",
     "text": [
      "INFO:numexpr.utils:Note: detected 256 virtual cores but NumExpr set to maximum of 64, check \"NUMEXPR_MAX_THREADS\" environment variable.\n",
      "INFO:numexpr.utils:Note: NumExpr detected 256 cores but \"NUMEXPR_MAX_THREADS\" not set, so enforcing safe limit of 8.\n",
      "INFO:numexpr.utils:NumExpr defaulting to 8 threads.\n",
      "track_names: 45\n",
      "node_names: 17\n",
      "edge_names: 17\n",
      "edge_inds: 17\n",
      "tracks: (1201, 17, 2, 45)\n",
      "track_occupancy: (45, 1201)\n",
      "point_scores: (1201, 17, 45)\n",
      "instance_scores: (1201, 45)\n",
      "tracking_scores: (1201, 45)\n",
      "labels_path: example-naps.slp\n",
      "video_path: example.mp4\n",
      "video_ind: 0\n",
      "provenance: {}\n",
      "Saved as example-naps.h5\n"
     ]
    }
   ],
   "source": [
    "!sleap-convert example-naps.slp -o example-naps.analysis.h5 --format analysis"
   ]
  },
  {
   "cell_type": "code",
   "execution_count": 44,
   "metadata": {
    "id": "nmlycvykyc_2"
   },
   "outputs": [
    {
     "name": "stdout",
     "output_type": "stream",
     "text": [
      "===filename===\n",
      "example-naps.analysis.h5\n",
      "\n",
      "===HDF5 datasets===\n",
      "['edge_inds', 'edge_names', 'instance_scores', 'labels_path', 'node_names', 'point_scores', 'provenance', 'track_names', 'track_occupancy', 'tracking_scores', 'tracks', 'video_ind', 'video_path']\n",
      "\n",
      "===locations data shape===\n",
      "(1201, 17, 2, 45)\n",
      "\n",
      "===first 5 track names===\n",
      "0: b'ArUcoTag#10'\n",
      "1: b'ArUcoTag#11'\n",
      "2: b'ArUcoTag#12'\n",
      "3: b'ArUcoTag#13'\n",
      "4: b'ArUcoTag#15'\n",
      "\n",
      "===nodes===\n",
      "0: tag\n",
      "1: head\n",
      "2: thorax_a\n",
      "3: abdomen\n",
      "4: antenna_l\n",
      "5: antenna_r\n",
      "6: foreleg_l\n",
      "7: foreleg_r\n",
      "8: midleg_l\n",
      "9: midleg_r\n",
      "10: hindleg_l\n",
      "11: hindleg_r\n",
      "12: wing_l\n",
      "13: wing_r\n",
      "14: thorax_h\n",
      "15: antenna_l_joint\n",
      "16: antenna_r_joint\n",
      "\n"
     ]
    }
   ],
   "source": [
    "import h5py\n",
    "import numpy as np\n",
    "\n",
    "filename = \"example-naps.analysis.h5\"\n",
    "\n",
    "with h5py.File(filename, \"r\") as f:\n",
    "    dset_names = list(f.keys())\n",
    "    locations = f[\"tracks\"][:].T\n",
    "    track_names = f[\"track_names\"][:]\n",
    "    node_names = [n.decode() for n in f[\"node_names\"][:]]\n",
    "\n",
    "print(\"===filename===\")\n",
    "print(filename)\n",
    "print()\n",
    "\n",
    "print(\"===HDF5 datasets===\")\n",
    "print(dset_names)\n",
    "print()\n",
    "\n",
    "print(\"===locations data shape===\")\n",
    "print(locations.shape)\n",
    "print()\n",
    "\n",
    "print(\"===first 5 track names===\")\n",
    "for i, name in enumerate(track_names[0:5]):\n",
    "    print(f\"{i}: {name}\")\n",
    "print()\n",
    "\n",
    "print(\"===nodes===\")\n",
    "for i, name in enumerate(node_names):\n",
    "    print(f\"{i}: {name}\")\n",
    "print()\n"
   ]
  },
  {
   "attachments": {},
   "cell_type": "markdown",
   "metadata": {},
   "source": [
    "## Rendering with sleap-render\n",
    "Now we can simply render this as a video using `sleap-render`. We'll use --frames to subset the frames to render and --tracks to render the tracks. We'll also use --output to specify the output file name."
   ]
  },
  {
   "cell_type": "code",
   "execution_count": null,
   "metadata": {},
   "outputs": [],
   "source": [
    "!sleap-render example-naps.slp --frames 550-650 --crop 3664,1024 -o example-naps-tracks.mp4"
   ]
  },
  {
   "cell_type": "code",
   "execution_count": null,
   "metadata": {},
   "outputs": [],
   "source": [
    "from IPython.display import HTML\n",
    "from base64 import b64encode\n",
    " \n",
    "def show_video(video_path, video_width = 600):\n",
    "   \n",
    "  video_file = open(video_path, \"r+b\").read()\n",
    " \n",
    "  video_url = f\"data:video/mp4;base64,{b64encode(video_file).decode()}\"\n",
    "  return HTML(f\"\"\"<video width={video_width} controls><source src=\"{video_url}\"></video>\"\"\")"
   ]
  },
  {
   "cell_type": "code",
   "execution_count": null,
   "metadata": {},
   "outputs": [],
   "source": [
    "show_video(\"example-naps-tracks.mp4\")"
   ]
  }
 ],
 "metadata": {
  "colab": {
   "background_execution": "on",
   "collapsed_sections": [],
   "name": "naps_basic_workflow",
   "private_outputs": true,
   "provenance": []
  },
  "gpuClass": "standard",
  "kernelspec": {
   "display_name": "Python 3.7.11 ('sleap_dev')",
   "language": "python",
   "name": "python3"
  },
  "language_info": {
   "codemirror_mode": {
    "name": "ipython",
    "version": 3
   },
   "file_extension": ".py",
   "mimetype": "text/x-python",
   "name": "python",
   "nbconvert_exporter": "python",
   "pygments_lexer": "ipython3",
   "version": "3.7.11"
  },
  "vscode": {
   "interpreter": {
    "hash": "177c836934b6a63d57a075b5cc3f7812a3de8a98495a556647184ecb20fdf5fb"
   }
  }
 },
 "nbformat": 4,
 "nbformat_minor": 0
}
