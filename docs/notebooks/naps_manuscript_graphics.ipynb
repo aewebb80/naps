{
 "cells": [
  {
   "cell_type": "markdown",
   "metadata": {
    "id": "SDq-1wfhRBWs"
   },
   "source": [
    "<a href=\"https://colab.research.google.com/github/kocherlab/naps/blob/main/docs/notebooks/naps_graphics.ipynb\" target=\"_parent\"><img src=\"https://colab.research.google.com/assets/colab-badge.svg\" alt=\"Open In Colab\"/></a>"
   ]
  },
  {
   "cell_type": "markdown",
   "metadata": {
    "id": "__EV0njV4R2-"
   },
   "source": [
    "# NAPS graphics for the manuscript"
   ]
  },
  {
   "cell_type": "markdown",
   "metadata": {
    "id": "ERsPYhzbx4GR"
   },
   "source": [
    "## After NAPS"
   ]
  },
  {
   "cell_type": "code",
   "execution_count": null,
   "metadata": {},
   "outputs": [],
   "source": [
    "metadata_dict = {\n",
    "    \"04to05\": {\n",
    "        \"video_path\": \"naps_data/videos/20220823-1633-cut-to-20220824-0400to0500-libx264.mp4\",\n",
    "        \"naps_analysis_h5_path\": \"naps_data/naps-tracks/20220823-1633-cut-to-20220824-0400to0500-libx264-naps.analysis.h5\",\n",
    "        \"sleap_analysis_h5_path\": \"naps_data/sleap-tracks/20220823-1633-cut-to-20220824-0400to0500-libx264.analysis.h5\",\n",
    "        \"aruco_npy_path\": \"naps_data/aruco-tracks/20220823-1633-cut-to-20220824-0400to0500-libx264-aruco.npy\",\n",
    "        \"n_individuals\": 50,\n",
    "        \"n_expected_naps_tracks\": 48,\n",
    "    },\n",
    "    \"12to13\": {\n",
    "        \"video_path\": \"naps_data/videos/20220823-1633-cut-to-20220824-1200to1300-libx264.mp4\",\n",
    "        \"naps_analysis_h5_path\": \"naps_data/20220823-1633-cut-to-20220824-1200to1300-libx264-naps.analysis.h5\",\n",
    "        \"sleap_analysis_h5_path\": \"naps_data/20220823-1633-cut-to-20220824-1200to1300-libx264.analysis.h5\",\n",
    "        \"aruco_npy_path\": \"naps_data/20220823-1633-cut-to-20220824-1200to1300-libx264-aruco.npy\",\n",
    "        \"n_individuals\": 50,\n",
    "        \"n_expected_naps_tracks\": 46,\n",
    "    },\n",
    "    \"20to21\": {\n",
    "        \"video_path\": \"naps_data/videos/20220823-1633-cut-to-20220824-2000to2100-libx264.mp4\",\n",
    "        \"naps_analysis_h5_path\": \"naps_data/20220823-1633-cut-to-20220824-2000to2100-libx264-naps.analysis.h5\",\n",
    "        \"sleap_analysis_h5_path\": \"naps_data/20220823-1633-cut-to-20220824-2000to2100-libx264.analysis.h5\",\n",
    "        \"aruco_npy_path\": \"naps_data/20220823-1633-cut-to-20220824-2000to2100-libx264-aruco.npy\",\n",
    "        \"n_individuals\": 50,\n",
    "        \"n_expected_naps_tracks\": 44,\n",
    "    },\n",
    "}"
   ]
  },
  {
   "cell_type": "code",
   "execution_count": null,
   "metadata": {
    "id": "nmlycvykyc_2"
   },
   "outputs": [],
   "source": [
    "\"\"\"Read in the h5 and display basic info\n",
    "\"\"\"\n",
    "\n",
    "import h5py\n",
    "import numpy as np\n",
    "\n",
    "\n",
    "filename = metadata_dict[\"12to13\"][\"naps_analysis_h5_path\"]\n",
    "video_filename = metadata_dict[\"12to13\"][\"video_path\"]\n",
    "output_filename = \"\"\n",
    "\n",
    "with h5py.File(filename, \"r\") as f:\n",
    "    dset_names = list(f.keys())\n",
    "    locations = f[\"tracks\"][:].T\n",
    "    node_names = [n.decode() for n in f[\"node_names\"][:]]\n",
    "\n",
    "print(\"===filename===\")\n",
    "print(filename)\n",
    "print()\n",
    "\n",
    "print(\"===HDF5 datasets===\")\n",
    "print(dset_names)\n",
    "print()\n",
    "\n",
    "print(\"===locations data shape===\")\n",
    "print(locations.shape)\n",
    "print()\n",
    "\n",
    "print(\"===nodes===\")\n",
    "for i, name in enumerate(node_names):\n",
    "    print(f\"{i}: {name}\")\n",
    "print()"
   ]
  },
  {
   "cell_type": "markdown",
   "metadata": {
    "id": "0PvF1zw0HuxM"
   },
   "source": [
    "### Utility functions for cleaning up tracks, plotting, and showing the video"
   ]
  },
  {
   "cell_type": "code",
   "execution_count": null,
   "metadata": {},
   "outputs": [],
   "source": [
    "%matplotlib inline\n",
    "\n",
    "import pandas as pd\n",
    "\n",
    "import matplotlib.pyplot as plt\n",
    "import seaborn as sns\n",
    "import matplotlib as mpl\n",
    "\n",
    "mpl.rcParams[\"figure.facecolor\"] = \"w\"\n",
    "mpl.rcParams[\"figure.dpi\"] = 150\n",
    "mpl.rcParams[\"savefig.dpi\"] = 600\n",
    "mpl.rcParams[\"savefig.transparent\"] = True\n",
    "mpl.rcParams[\"font.size\"] = 15\n",
    "mpl.rcParams[\"font.family\"] = \"sans-serif\"\n",
    "mpl.rcParams[\"font.sans-serif\"] = [\"Arial\", \"DejaVu Sans\"]\n",
    "mpl.rcParams[\"axes.titlesize\"] = \"x-large\"  # medium, large, x-large, xx-large\n",
    "\n",
    "mpl.style.use(\"seaborn-deep\")"
   ]
  },
  {
   "cell_type": "code",
   "execution_count": null,
   "metadata": {},
   "outputs": [],
   "source": [
    "import h5py\n",
    "import numpy as np\n",
    "\n",
    "for expmt_name, expmt_metadata in metadata_dict.items():\n",
    "    with h5py.File(expmt_metadata[\"sleap_analysis_h5_path\"], \"r\") as f:\n",
    "        metadata_dict[expmt_name][\"occupancy_matrix_sleap\"] = f[\"track_occupancy\"][:]\n",
    "\n",
    "    with h5py.File(expmt_metadata[\"naps_analysis_h5_path\"], \"r\") as f:\n",
    "        metadata_dict[expmt_name][\"occupancy_matrix_naps\"] = f[\"track_occupancy\"][:]\n",
    "\n",
    "    aruco_only = np.load(expmt_metadata[\"aruco_npy_path\"], allow_pickle=True)\n",
    "    aruco_only = aruco_only[:, 0, 0, :]\n",
    "    metadata_dict[expmt_name][\"occupancy_matrix_aruco\"] = ~np.isnan(aruco_only)\n",
    "\n",
    "    row_sum_sleap = np.sum(metadata_dict[expmt_name][\"occupancy_matrix_sleap\"], axis=1)\n",
    "    metadata_dict[expmt_name][\"mean_identifications_sleap\"] = np.mean(row_sum_sleap)\n",
    "\n",
    "    row_sum_naps = np.sum(\n",
    "        metadata_dict[expmt_name][\"occupancy_matrix_naps\"][20:-20], axis=1\n",
    "    )\n",
    "    metadata_dict[expmt_name][\"mean_identifications_naps\"] = np.mean(row_sum_naps)\n",
    "\n",
    "    row_sum_aruco = np.sum(metadata_dict[expmt_name][\"occupancy_matrix_aruco\"], axis=1)\n",
    "    metadata_dict[expmt_name][\"mean_identifications_aruco\"] = np.mean(row_sum_aruco)"
   ]
  },
  {
   "cell_type": "code",
   "execution_count": null,
   "metadata": {},
   "outputs": [],
   "source": [
    "import palettable\n",
    "\n",
    "pal = [\n",
    "    \"#F3722C\",\n",
    "    \"#43AA8B\",\n",
    "    \"#577590\",\n",
    "]  # [palettable.wesanderson.Moonrise7_5.hex_colors[0]] + [\"#446455\"] + [palettable.wesanderson.Moonrise7_5.hex_colors[2]]\n",
    "mpl.style.use(\"seaborn-deep\")\n",
    "# palette = sns.color_palette(cc.glasbey, n_colors=arr.shape[3])\n",
    "fig, ax = plt.subplots(1, 2, figsize=(12, 4))\n",
    "# fig.suptitle(\"Missingness frequency of tracklets\")\n",
    "sns.set_style(\"ticks\")\n",
    "import itertools\n",
    "\n",
    "mean_identifications_sleap = [\n",
    "    100\n",
    "    * metadata_dict[expmt_name][\"mean_identifications_sleap\"]\n",
    "    / metadata_dict[expmt_name][\"n_individuals\"]\n",
    "    for expmt_name in metadata_dict.keys()\n",
    "]\n",
    "mean_identifications_naps = [\n",
    "    (100 * metadata_dict[expmt_name][\"mean_identifications_naps\"] - 1)\n",
    "    / metadata_dict[expmt_name][\"n_expected_naps_tracks\"]\n",
    "    for expmt_name in metadata_dict.keys()\n",
    "]\n",
    "mean_identifications_aruco = [\n",
    "    100\n",
    "    * metadata_dict[expmt_name][\"mean_identifications_aruco\"]\n",
    "    / metadata_dict[expmt_name][\"n_expected_naps_tracks\"]\n",
    "    for expmt_name in metadata_dict.keys()\n",
    "]\n",
    "list_of_missing_freqs = [\n",
    "    mean_identifications_sleap,\n",
    "    mean_identifications_naps,\n",
    "    mean_identifications_aruco,\n",
    "]\n",
    "data = pd.DataFrame(\n",
    "    (_ for _ in itertools.zip_longest(*list_of_missing_freqs)),\n",
    "    columns=[\"SLEAP (Temporal)\", \"NAPS\", \"ArUco\"],\n",
    ")\n",
    "sns.swarmplot(\n",
    "    ax=ax[0],\n",
    "    data=data,\n",
    "    size=10,\n",
    "    palette=pal,\n",
    ")\n",
    "\n",
    "ax[0].set_ylim(0, 105)\n",
    "sns.despine(offset=10, trim=False)\n",
    "ax[0].set_ylabel(\"Percent of Expected Identifications\\n per Frame\")\n",
    "\n",
    "mean_identifications_sleap = [\n",
    "    metadata_dict[expmt_name][\"occupancy_matrix_sleap\"].shape[1]\n",
    "    / metadata_dict[expmt_name][\"n_individuals\"]\n",
    "    for expmt_name in metadata_dict.keys()\n",
    "]\n",
    "mean_identifications_naps = [\n",
    "    (metadata_dict[expmt_name][\"occupancy_matrix_naps\"].shape[1] - 1)\n",
    "    / metadata_dict[expmt_name][\"n_expected_naps_tracks\"]\n",
    "    for expmt_name in metadata_dict.keys()\n",
    "]\n",
    "mean_identifications_aruco = [\n",
    "    metadata_dict[expmt_name][\"occupancy_matrix_aruco\"].shape[1]\n",
    "    / metadata_dict[expmt_name][\"n_expected_naps_tracks\"]\n",
    "    for expmt_name in metadata_dict.keys()\n",
    "]\n",
    "list_of_track_counts = [\n",
    "    mean_identifications_sleap,\n",
    "    mean_identifications_naps,\n",
    "    mean_identifications_aruco,\n",
    "]\n",
    "\n",
    "data = pd.DataFrame(\n",
    "    (_ for _ in itertools.zip_longest(*list_of_track_counts)),\n",
    "    columns=[\"SLEAP (Temporal)\", \"NAPS\", \"ArUco\"],\n",
    ")\n",
    "sns.swarmplot(\n",
    "    ax=ax[1],\n",
    "    data=data,\n",
    "    palette=pal,\n",
    "    size=10,\n",
    ")\n",
    "plt.axhline(1, lw=3, color=\"darkgray\", ls=\"--\")\n",
    "plt.ylim(0, 3)\n",
    "sns.despine(offset=10, trim=False)\n",
    "ax[1].set_ylabel(\n",
    "    \"Ratio of Number of Unique Identities\\n to Expected Number of Unique Identities\"\n",
    ")\n",
    "plt.tight_layout()\n",
    "plt.savefig(\"figures/naps_comparison_metrics.png\", dpi=600, bbox_inches=\"tight\")"
   ]
  },
  {
   "cell_type": "code",
   "execution_count": null,
   "metadata": {},
   "outputs": [],
   "source": []
  },
  {
   "cell_type": "code",
   "execution_count": null,
   "metadata": {},
   "outputs": [],
   "source": [
    "import sys\n",
    "\n",
    "sys.path.append(\"../\")\n",
    "import utils.trx_utils as trx_utils"
   ]
  },
  {
   "cell_type": "code",
   "execution_count": null,
   "metadata": {},
   "outputs": [],
   "source": [
    "import importlib\n",
    "\n",
    "importlib.reload(trx_utils)\n",
    "filtered_locations = trx_utils.fill_missing_np(locations)\n",
    "filtered_locations = trx_utils.smooth_median(filtered_locations)"
   ]
  },
  {
   "cell_type": "code",
   "execution_count": null,
   "metadata": {},
   "outputs": [],
   "source": [
    "trail_length = 100\n",
    "data = filtered_locations\n",
    "frame_idx = 0\n",
    "dpi = 300\n",
    "\n",
    "pal = [\"#6666eb\", \"#ff80c9\"]\n",
    "\n",
    "nodes_to_plot = [node_names.index(n) for n in [\"antenna_l\", \"antenna_r\"]]\n",
    "\n",
    "fig, ax = plt.subplots(figsize=(3664 / 300, 3664 / 300), dpi=dpi)\n",
    "plt.xlim(0, 3664)\n",
    "plt.ylim(-3664, 0)\n",
    "print(f\"Frame {frame_idx}\")\n",
    "data_subset = data[max((frame_idx - trail_length), 0) : (frame_idx), :, :, :]\n",
    "plt.axis(\"off\")\n",
    "ax.set_aspect(\"equal\")\n",
    "fly_idxs = [13, 14]\n",
    "for fly_idx in range(2):\n",
    "    for node_idx in nodes_to_plot:\n",
    "        for idx in range(2, data_subset.shape[0]):\n",
    "            if trail_length != 1:\n",
    "                # Note that you need to use single steps or the data has \"steps\"\n",
    "                plt.plot(\n",
    "                    data_subset[(idx - 1) : (idx + 1), node_idx, 0, fly_idxs[fly_idx]],\n",
    "                    -data_subset[(idx - 1) : (idx + 1), node_idx, 1, fly_idxs[fly_idx]],\n",
    "                    linewidth=3 * idx / data_subset.shape[0],\n",
    "                    color=pal[fly_idx],\n",
    "                    alpha=(idx / data_subset.shape[0]),\n",
    "                    solid_capstyle=\"round\",\n",
    "                )\n",
    "            else:\n",
    "                plt.scatter(\n",
    "                    data_subset[idx, node_idx, 0, fly_idx],\n",
    "                    data_subset[idx, node_idx, 1, fly_idx],\n",
    "                    color=palettable.tableau.Tableau_20.mpl_colors[node_idx],\n",
    "                )\n",
    "plt.savefig(\"figures/trail.png\", bbox_inches=\"tight\", dpi=300, pad_inches=0)"
   ]
  },
  {
   "cell_type": "code",
   "execution_count": null,
   "metadata": {},
   "outputs": [],
   "source": [
    "import pandas as pd\n",
    "import numpy as np\n",
    "\n",
    "import matplotlib.pyplot as plt\n",
    "import seaborn as sns\n",
    "import matplotlib.style\n",
    "import matplotlib as mpl\n",
    "from matplotlib.patches import Circle\n",
    "from matplotlib import patches\n",
    "\n",
    "mpl.rcParams[\"figure.facecolor\"] = \"w\"\n",
    "mpl.rcParams[\"figure.dpi\"] = 150\n",
    "mpl.rcParams[\"savefig.dpi\"] = 600\n",
    "mpl.rcParams[\"savefig.transparent\"] = True\n",
    "mpl.rcParams[\"font.size\"] = 6\n",
    "mpl.rcParams[\"font.family\"] = \"sans-serif\"\n",
    "mpl.rcParams[\"font.sans-serif\"] = [\"Arial\", \"DejaVu Sans\"]\n",
    "mpl.rcParams[\"axes.titlesize\"] = \"large\"  # medium, large, x-large, xx-large\n",
    "\n",
    "mpl.style.use(\"seaborn-deep\")"
   ]
  },
  {
   "cell_type": "code",
   "execution_count": null,
   "metadata": {},
   "outputs": [],
   "source": [
    "import scipy.io as sio\n",
    "\n",
    "touch_mat = sio.loadmat(\"example_data/touch_detector_frequency_by_indiv.mat\")\n",
    "scatter_data = touch_mat[\"scatter_data\"]"
   ]
  },
  {
   "cell_type": "code",
   "execution_count": null,
   "metadata": {},
   "outputs": [],
   "source": [
    "list_by_interaction_type = [scatter_data[:, i][0][0] for i in range(3)]\n",
    "array = np.column_stack(list_by_interaction_type)\n",
    "\n",
    "touch_df = pd.DataFrame(array, columns=[\"Ant-Body\", \"Ant-Abd\", \"Ant-Ant\"])\n",
    "pal = [\"#008080\", \"#800000\", \"#3333CC\"]\n",
    "sns.set_palette(sns.color_palette(pal))"
   ]
  },
  {
   "cell_type": "code",
   "execution_count": null,
   "metadata": {},
   "outputs": [],
   "source": [
    "pal = []\n",
    "plt.figure(figsize=(4, 5))\n",
    "sns.swarmplot(data=touch_df, size=4, alpha=1, zorder=-10)\n",
    "plt.ylabel(\"Normalized Touch Score\")\n",
    "sns.despine(offset=10, trim=False)\n",
    "plt.tight_layout()\n",
    "plt.ylim(0, 0.8)\n",
    "plt.savefig(\"figures/figure4_right_panel.png\", dpi=300, bbox_inches=\"tight\")"
   ]
  }
 ],
 "metadata": {
  "colab": {
   "background_execution": "on",
   "collapsed_sections": [],
   "name": "naps_basic_workflow",
   "private_outputs": true,
   "provenance": []
  },
  "gpuClass": "standard",
  "kernelspec": {
   "display_name": "Python 3.7.11 ('sleap_dev')",
   "language": "python",
   "name": "python3"
  },
  "language_info": {
   "codemirror_mode": {
    "name": "ipython",
    "version": 3
   },
   "file_extension": ".py",
   "mimetype": "text/x-python",
   "name": "python",
   "nbconvert_exporter": "python",
   "pygments_lexer": "ipython3",
   "version": "3.7.11 (default, Jul 27 2021, 14:32:16) \n[GCC 7.5.0]"
  },
  "vscode": {
   "interpreter": {
    "hash": "177c836934b6a63d57a075b5cc3f7812a3de8a98495a556647184ecb20fdf5fb"
   }
  }
 },
 "nbformat": 4,
 "nbformat_minor": 0
}
