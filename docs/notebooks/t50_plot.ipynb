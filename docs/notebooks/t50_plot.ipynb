{
  "cells": [
    {
      "cell_type": "markdown",
      "metadata": {
        "id": "__EV0njV4R2-"
      },
      "source": [
        "# t_50 plot"
      ]
    },
    {
      "cell_type": "code",
      "execution_count": null,
      "metadata": {},
      "outputs": [],
      "source": [
        "\n",
        "import h5py\n",
        "import numpy as np\n",
        "with h5py.File('data/example_sleap_output.analysis.h5', 'r') as f:\n",
        "    occupancy_matrix_sleap = f['track_occupancy'][:]\n",
        "    \n",
        "with h5py.File('data/example_naps_output.analysis.h5', 'r') as f:\n",
        "    occupancy_matrix_naps = f['track_occupancy'][:]\n",
        "\n",
        "aruco_only =  np.load(\"data/example_aruco_output.npy\")\n",
        "aruco_only = aruco_only[0:72000,0,0,:]\n",
        "occupancy_matrix_aruco = ~np.isnan(aruco_only)"
      ]
    },
    {
      "cell_type": "code",
      "execution_count": null,
      "metadata": {},
      "outputs": [],
      "source": [
        "%matplotlib inline\n",
        "\n",
        "import pandas as pd\n",
        "\n",
        "import matplotlib.pyplot as plt\n",
        "import seaborn as sns\n",
        "import matplotlib as mpl\n",
        "\n",
        "mpl.rcParams[\"figure.facecolor\"] = \"w\"\n",
        "mpl.rcParams[\"figure.dpi\"] = 150\n",
        "mpl.rcParams[\"savefig.dpi\"] = 600\n",
        "mpl.rcParams[\"savefig.transparent\"] = True\n",
        "mpl.rcParams[\"font.size\"] = 15\n",
        "mpl.rcParams[\"font.family\"] = \"sans-serif\"\n",
        "mpl.rcParams[\"font.sans-serif\"] = [\"Arial\", \"DejaVu Sans\"]\n",
        "mpl.rcParams[\"axes.titlesize\"] = \"x-large\"  # medium, large, x-large, xx-large\n",
        "\n",
        "mpl.style.use(\"seaborn-deep\")"
      ]
    },
    {
      "cell_type": "code",
      "execution_count": null,
      "metadata": {},
      "outputs": [],
      "source": [
        "occupancy_aruco = np.sum(occupancy_matrix_aruco.T == 1,axis=1)/(72000*50)\n",
        "occupancy_sorted_aruco = -np.sort(-occupancy_aruco)\n",
        "occupancy_cumsum_aruco = np.cumsum(occupancy_sorted_aruco)\n",
        "\n",
        "occupancy_sleap = np.sum(occupancy_matrix_sleap.T == 1,axis=1)/(72000*50)\n",
        "occupancy_sorted_sleap = -np.sort(-occupancy_sleap)\n",
        "occupancy_cumsum_sleap = np.cumsum(occupancy_sorted_sleap)\n",
        "\n",
        "occupancy_naps = np.sum(occupancy_matrix_naps.T == 1,axis=1)/(72000*50)\n",
        "occupancy_sorted_naps = -np.sort(-occupancy_naps)\n",
        "occupancy_cumsum_naps = np.cumsum(occupancy_sorted_naps)\n",
        "\n",
        "\n",
        "t50_aruco = min(np.where(occupancy_cumsum_aruco > 0.5)[0])\n",
        "t50_sleap = min(np.where(occupancy_cumsum_sleap > 0.5)[0])\n",
        "t50_naps = min(np.where(occupancy_cumsum_naps > 0.5)[0])"
      ]
    },
    {
      "cell_type": "code",
      "execution_count": null,
      "metadata": {},
      "outputs": [],
      "source": [
        "import palettable\n",
        "# palette = sns.color_palette(cc.glasbey, n_colors=arr.shape[3])\n",
        "fig, ax = plt.subplots(3, 1, figsize=(12, 9))\n",
        "# fig.suptitle(\"Missingness frequency of tracklets\")\n",
        "sns.set_style(\"ticks\")\n",
        "\n",
        "data = pd.DataFrame({\"x\": np.arange(1,len(occupancy_cumsum_aruco)+1),\"y\":occupancy_cumsum_aruco})\n",
        "\n",
        "sns.lineplot(\n",
        "    ax=ax[0],\n",
        "    x=\"x\",\n",
        "    y=\"y\",\n",
        "    data=data,\n",
        "    color=palettable.wesanderson.Moonrise7_5.mpl_colors[0],\n",
        ")\n",
        "ax[0].fill_between(data['x'], data['y'], alpha=0.2,color=palettable.wesanderson.Moonrise7_5.mpl_colors[0])\n",
        "ax[0].set(xlabel=None, ylabel=None)\n",
        "ax[0].set_xlim(0,len(occupancy_cumsum_aruco))\n",
        "ax[0].set_title(\"ArUco\")\n",
        "ax[0].axvline(x=t50_aruco, ymin=0,ymax=occupancy_cumsum_aruco[t50_aruco-1],color=\"black\",linewidth=2,linestyle=\"--\")\n",
        "data = pd.DataFrame({\"x\": np.arange(1,len(occupancy_cumsum_sleap)+1),\"y\":occupancy_cumsum_sleap})\n",
        "sns.lineplot(\n",
        "    ax=ax[1],\n",
        "    x=\"x\",\n",
        "    y=\"y\",\n",
        "    data=data,\n",
        "    color=palettable.wesanderson.Moonrise7_5.mpl_colors[1],\n",
        ")\n",
        "ax[1].fill_between(data['x'], data['y'], alpha=0.2,color=palettable.wesanderson.Moonrise7_5.mpl_colors[1])\n",
        "ax[1].set(xlabel=None, ylabel=\"Fraction of Total Possible Identifications\")\n",
        "ax[1].set_xlim(0,len(occupancy_cumsum_sleap))\n",
        "ax[1].set_title(\"SLEAP\")\n",
        "ax[1].axvline(x=t50_sleap, ymin=0,ymax=occupancy_cumsum_sleap[t50_sleap-1],color=\"black\",linewidth=2,linestyle=\"--\")\n",
        "data = pd.DataFrame({\"x\": np.arange(1,len(occupancy_cumsum_naps)+1),\"y\":occupancy_cumsum_naps})\n",
        "sns.lineplot(\n",
        "    ax=ax[2],\n",
        "    x=\"x\",\n",
        "    y=\"y\",\n",
        "    data=data,\n",
        "    color=palettable.wesanderson.Moonrise7_5.mpl_colors[2],\n",
        ")\n",
        "ax[2].fill_between(data['x'], data['y'], alpha=0.2,color=palettable.wesanderson.Moonrise7_5.mpl_colors[2])\n",
        "ax[2].set(xlabel=\"Number of Tracks\", ylabel=None)\n",
        "ax[2].set_xlim(0,len(occupancy_cumsum_naps))\n",
        "ax[2].set_title(\"NAPS\")\n",
        "ax[2].axvline(x=t50_naps, ymin=0,ymax=occupancy_cumsum_naps[t50_naps-1],color=\"black\",linewidth=2,linestyle=\"--\")\n",
        "plt.setp(ax,ylim=(0,1))\n",
        "\n",
        "# plt.xlim(0, 16)\n",
        "sns.despine(offset=3, trim=False)\n",
        "# plt.legend(labels=[\"ArUco\", \"SLEAP\", \"NAPS\"], title = \"Source of Tracks\")\n",
        "fig.tight_layout(rect=[0.05, 0.05, 1, 1])\n",
        "\n",
        "plt.savefig(\"figures/t50_distribution.png\", dpi=600)"
      ]
    }
  ],
  "metadata": {
    "colab": {
      "background_execution": "on",
      "collapsed_sections": [],
      "name": "naps_basic_workflow",
      "private_outputs": true,
      "provenance": []
    },
    "gpuClass": "standard",
    "kernelspec": {
      "display_name": "Python 3.7.11 ('sleap_dev')",
      "language": "python",
      "name": "python3"
    },
    "language_info": {
      "codemirror_mode": {
        "name": "ipython",
        "version": 3
      },
      "file_extension": ".py",
      "mimetype": "text/x-python",
      "name": "python",
      "nbconvert_exporter": "python",
      "pygments_lexer": "ipython3",
      "version": "3.7.11"
    },
    "vscode": {
      "interpreter": {
        "hash": "177c836934b6a63d57a075b5cc3f7812a3de8a98495a556647184ecb20fdf5fb"
      }
    }
  },
  "nbformat": 4,
  "nbformat_minor": 0
}
